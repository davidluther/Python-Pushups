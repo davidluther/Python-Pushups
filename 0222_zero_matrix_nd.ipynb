{
 "cells": [
  {
   "cell_type": "markdown",
   "metadata": {},
   "source": [
    "# Zero Matrix – N-Dimensional"
   ]
  },
  {
   "cell_type": "markdown",
   "metadata": {},
   "source": [
    "This one poses quite a differnet challenge, as it's extremely difficult to visualize after three dimensions. We also have to consider how we interpret the replacement operation: do we replace with zeroes along each *line* that contains one, or along each *hyperplane*? This is something of an arbitrary choice, but for the sake of the exercise here, I'll look to replace along lines."
   ]
  },
  {
   "cell_type": "code",
   "execution_count": 1,
   "metadata": {},
   "outputs": [],
   "source": [
    "import numpy as np\n",
    "import random\n",
    "import timeit\n",
    "from functools import partial\n",
    "import matplotlib.pyplot as plt\n",
    "from copy import deepcopy\n",
    "%matplotlib inline"
   ]
  },
  {
   "cell_type": "markdown",
   "metadata": {},
   "source": [
    "### Data Generation"
   ]
  },
  {
   "cell_type": "markdown",
   "metadata": {},
   "source": [
    "First, I need to be able to generate an ND matrix of ones and zeroes with zeroes occurring at a specific probability. This is incredibly easy using Numpy:"
   ]
  },
  {
   "cell_type": "code",
   "execution_count": 3,
   "metadata": {},
   "outputs": [
    {
     "data": {
      "text/plain": [
       "array([[[1, 1, 1, 0],\n",
       "        [1, 1, 0, 1],\n",
       "        [1, 1, 0, 1]],\n",
       "\n",
       "       [[1, 1, 0, 0],\n",
       "        [1, 1, 1, 1],\n",
       "        [1, 1, 1, 1]]])"
      ]
     },
     "execution_count": 3,
     "metadata": {},
     "output_type": "execute_result"
    }
   ],
   "source": [
    "test_np = np.random.choice(2, (2,3,4), p=[0.1, 0.9])\n",
    "test_np"
   ]
  },
  {
   "cell_type": "markdown",
   "metadata": {},
   "source": [
    "But for kicks, here's a recursive method that does it with Python built-ins + random module:"
   ]
  },
  {
   "cell_type": "code",
   "execution_count": 4,
   "metadata": {},
   "outputs": [],
   "source": [
    "def gen_ndarray(dims, p_zero):\n",
    "    \"\"\"Generates array of provided dimensions filled with randomly assigned 0s and 1s\"\"\"\n",
    "\n",
    "    if isinstance(dims, (list, tuple)) and len(dims) == 1:\n",
    "        dims = dims[0]\n",
    "    if isinstance(dims, int):\n",
    "        return random.choices(range(2), weights=[p_zero, 1-p_zero], k=dims)\n",
    "    else:\n",
    "        arr = []\n",
    "        for _ in range(dims[0]):\n",
    "            arr.append(gen_ndarray(dims[1:], p_zero))\n",
    "        return arr"
   ]
  },
  {
   "cell_type": "code",
   "execution_count": 5,
   "metadata": {},
   "outputs": [
    {
     "data": {
      "text/plain": [
       "[[[1, 1, 1, 1], [1, 1, 1, 1], [1, 1, 1, 0]],\n",
       " [[1, 1, 1, 1], [0, 1, 1, 1], [1, 1, 1, 1]]]"
      ]
     },
     "execution_count": 5,
     "metadata": {},
     "output_type": "execute_result"
    }
   ],
   "source": [
    "gen_ndarray((2,3,4), 0.1)"
   ]
  },
  {
   "cell_type": "code",
   "execution_count": 6,
   "metadata": {},
   "outputs": [
    {
     "name": "stdout",
     "output_type": "stream",
     "text": [
      "813 µs ± 31.5 µs per loop (mean ± std. dev. of 7 runs, 1000 loops each)\n"
     ]
    }
   ],
   "source": [
    "%%timeit\n",
    "gen_ndarray((10,10,10), 0.1)"
   ]
  },
  {
   "cell_type": "code",
   "execution_count": 7,
   "metadata": {},
   "outputs": [
    {
     "name": "stdout",
     "output_type": "stream",
     "text": [
      "55.9 µs ± 1.71 µs per loop (mean ± std. dev. of 7 runs, 10000 loops each)\n"
     ]
    }
   ],
   "source": [
    "%%timeit\n",
    "np.random.choice(2, (10,10,10), p=[0.1, 0.9])"
   ]
  },
  {
   "cell_type": "markdown",
   "metadata": {},
   "source": [
    "Not surprisingly, my method is significantly slower than numpy, but it gets the job done."
   ]
  },
  {
   "cell_type": "markdown",
   "metadata": {},
   "source": [
    "### Finding Shape, Dimensions, Zero Coordinates"
   ]
  },
  {
   "cell_type": "markdown",
   "metadata": {},
   "source": [
    "Again, this is something that's incredibly easy if done with Numpy:"
   ]
  },
  {
   "cell_type": "code",
   "execution_count": 8,
   "metadata": {},
   "outputs": [
    {
     "name": "stdout",
     "output_type": "stream",
     "text": [
      "Shape: (2, 3, 4)\n",
      "Dimensions: 3\n"
     ]
    }
   ],
   "source": [
    "print(\"Shape:\", test_np.shape)\n",
    "print(\"Dimensions:\", len(test_np.shape))"
   ]
  },
  {
   "cell_type": "code",
   "execution_count": 11,
   "metadata": {},
   "outputs": [
    {
     "data": {
      "text/plain": [
       "(array([0, 0, 0, 1, 1]), array([0, 1, 2, 0, 0]), array([3, 2, 2, 2, 3]))"
      ]
     },
     "execution_count": 11,
     "metadata": {},
     "output_type": "execute_result"
    }
   ],
   "source": [
    "# find all zeros, outputs coords by dimension\n",
    "np.where(test_np == 0)"
   ]
  },
  {
   "cell_type": "code",
   "execution_count": 140,
   "metadata": {},
   "outputs": [
    {
     "name": "stdout",
     "output_type": "stream",
     "text": [
      "(0,1,2)\n",
      "(1,1,1)\n",
      "(1,2,2)\n"
     ]
    }
   ],
   "source": [
    "for x,y,z in zip(*np.where(test == 0)):\n",
    "    print(f\"({x},{y},{z})\")"
   ]
  },
  {
   "cell_type": "markdown",
   "metadata": {},
   "source": [
    "But I'll give it a shot with standard code as well..."
   ]
  },
  {
   "cell_type": "code",
   "execution_count": 42,
   "metadata": {},
   "outputs": [],
   "source": [
    "def detect_shape(arr_in):\n",
    "    \"\"\"Return shape of N-dim array\"\"\"\n",
    "    \n",
    "    test = arr_in\n",
    "    shape = [len(test)]\n",
    "    while True:\n",
    "        test = test[0]\n",
    "        try:\n",
    "            shape.append(len(test))\n",
    "        except TypeError:\n",
    "            break\n",
    "    return tuple(shape)\n",
    "\n",
    "\n",
    "def detect_shape_rec(arr_in, shape=[]):\n",
    "    \"\"\"Recursive method to detect shape of N-dim array\"\"\"\n",
    "    \n",
    "    if not isinstance(arr_in, list):\n",
    "        return shape\n",
    "    else:\n",
    "        shape.append(len(arr_in))\n",
    "        return detect_shape_rec(arr_in[0], shape)\n",
    "\n",
    "\n",
    "def get_coords(arr_in, coord=[], zero_coords=[]):\n",
    "    \"\"\"Returns coordinates of all zeros from N-dim array\"\"\"\n",
    "    \n",
    "    # will return false if 1 or list\n",
    "    if arr_in == 0:\n",
    "        zero_coords.append(tuple(coord))\n",
    "        return zero_coords\n",
    "    if isinstance(arr_in, list):\n",
    "        for ix, sub in enumerate(arr_in):\n",
    "            next_coord = coord + [ix]\n",
    "            get_coords(sub, next_coord)\n",
    "        return zero_coords"
   ]
  },
  {
   "cell_type": "code",
   "execution_count": 24,
   "metadata": {},
   "outputs": [
    {
     "data": {
      "text/plain": [
       "[[[1, 1, 1, 1], [0, 1, 1, 1], [0, 1, 1, 1]],\n",
       " [[1, 1, 1, 0], [1, 1, 0, 0], [0, 1, 1, 1]]]"
      ]
     },
     "execution_count": 24,
     "metadata": {},
     "output_type": "execute_result"
    }
   ],
   "source": [
    "test_arr = gen_ndarray((2,3,4), 0.2)\n",
    "test_arr"
   ]
  },
  {
   "cell_type": "code",
   "execution_count": 34,
   "metadata": {},
   "outputs": [
    {
     "data": {
      "text/plain": [
       "[(0, 1, 0), (0, 2, 0), (1, 0, 3), (1, 1, 2), (1, 1, 3), (1, 2, 0)]"
      ]
     },
     "execution_count": 34,
     "metadata": {},
     "output_type": "execute_result"
    }
   ],
   "source": [
    "get_coords(test_arr)"
   ]
  },
  {
   "cell_type": "code",
   "execution_count": 40,
   "metadata": {},
   "outputs": [
    {
     "data": {
      "text/plain": [
       "(2, 3, 4)"
      ]
     },
     "execution_count": 40,
     "metadata": {},
     "output_type": "execute_result"
    }
   ],
   "source": [
    "detect_shape(test_arr)"
   ]
  },
  {
   "cell_type": "code",
   "execution_count": 43,
   "metadata": {},
   "outputs": [
    {
     "data": {
      "text/plain": [
       "[2, 3, 4]"
      ]
     },
     "execution_count": 43,
     "metadata": {},
     "output_type": "execute_result"
    }
   ],
   "source": [
    "detect_shape_rec(test_arr)"
   ]
  },
  {
   "cell_type": "code",
   "execution_count": 45,
   "metadata": {},
   "outputs": [
    {
     "name": "stdout",
     "output_type": "stream",
     "text": [
      "Dimensions: 3\n"
     ]
    }
   ],
   "source": [
    "print(\"Dimensions:\", len(detect_shape(test_arr)))"
   ]
  },
  {
   "cell_type": "markdown",
   "metadata": {},
   "source": [
    "### Create Class for N-Dim Operations"
   ]
  },
  {
   "cell_type": "markdown",
   "metadata": {},
   "source": [
    "Coming soon!"
   ]
  },
  {
   "cell_type": "code",
   "execution_count": null,
   "metadata": {},
   "outputs": [],
   "source": []
  }
 ],
 "metadata": {
  "kernelspec": {
   "display_name": "Python [conda env:Py36]",
   "language": "python",
   "name": "conda-env-Py36-py"
  },
  "language_info": {
   "codemirror_mode": {
    "name": "ipython",
    "version": 3
   },
   "file_extension": ".py",
   "mimetype": "text/x-python",
   "name": "python",
   "nbconvert_exporter": "python",
   "pygments_lexer": "ipython3",
   "version": "3.6.2"
  }
 },
 "nbformat": 4,
 "nbformat_minor": 2
}
