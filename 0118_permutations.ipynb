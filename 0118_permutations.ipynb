{
 "cells": [
  {
   "cell_type": "code",
   "execution_count": 7,
   "metadata": {},
   "outputs": [],
   "source": [
    "from itertools import permutations"
   ]
  },
  {
   "cell_type": "code",
   "execution_count": 21,
   "metadata": {},
   "outputs": [],
   "source": [
    "def perms_with_dupes(str_in):\n",
    "    \"\"\"Returns a list of permutations for an input string\"\"\"\n",
    "\n",
    "    # base cases\n",
    "    if len(str_in) == 1:\n",
    "        return [str_in]\n",
    "    elif len(str_in) == 2:\n",
    "        return [str_in, str_in[::-1]]\n",
    "    # recursion\n",
    "    else:\n",
    "        plist = []\n",
    "        for ix, char in enumerate(str_in):\n",
    "            if ix == len(str_in)-1:\n",
    "                not_char = str_in[:-1]\n",
    "            else:\n",
    "                not_char = str_in[:ix] + str_in[ix+1:]\n",
    "            for perm in perms_with_dupes(not_char):\n",
    "                plist.append(char + perm)\n",
    "        return plist  "
   ]
  },
  {
   "cell_type": "code",
   "execution_count": 8,
   "metadata": {},
   "outputs": [],
   "source": [
    "def my_permutations(str_in, remove_dupes=True):\n",
    "    \"\"\"Returns a list of permutations for an input string, removes duplicates\n",
    "    if indicated\"\"\"\n",
    "\n",
    "    # base cases\n",
    "    if len(str_in) == 1:\n",
    "        return [str_in]\n",
    "    elif len(str_in) == 2:\n",
    "        if str_in[0] == str_in[1] and remove_dupes:\n",
    "            return [str_in]\n",
    "        else:\n",
    "            return [str_in, str_in[::-1]]\n",
    "    # recursion\n",
    "    else:\n",
    "        plist = []\n",
    "        if remove_dupes:\n",
    "            chars = set()\n",
    "        for ix, char in enumerate(str_in):\n",
    "            if remove_dupes:\n",
    "                if char in chars:\n",
    "                    continue\n",
    "                else:\n",
    "                    chars.add(char)\n",
    "            if ix == len(str_in)-1:\n",
    "                not_char = str_in[:-1]\n",
    "            else:\n",
    "                not_char = str_in[:ix] + str_in[ix+1:]\n",
    "            for perm in my_permutations(not_char, remove_dupes=remove_dupes):\n",
    "                plist.append(char + perm)\n",
    "        return plist"
   ]
  },
  {
   "cell_type": "code",
   "execution_count": 17,
   "metadata": {},
   "outputs": [],
   "source": [
    "def other_permutations(str_in):\n",
    "    plist = []\n",
    "    for perm in permutations(str_in):\n",
    "        plist.append(''.join(perm))\n",
    "    return plist"
   ]
  },
  {
   "cell_type": "code",
   "execution_count": 44,
   "metadata": {},
   "outputs": [],
   "source": [
    "string_in = 'abcdefghij'"
   ]
  },
  {
   "cell_type": "code",
   "execution_count": 45,
   "metadata": {},
   "outputs": [
    {
     "name": "stdout",
     "output_type": "stream",
     "text": [
      "9.13 s ± 88.6 ms per loop (mean ± std. dev. of 7 runs, 1 loop each)\n"
     ]
    }
   ],
   "source": [
    "%%timeit\n",
    "my_permutations(string_in)"
   ]
  },
  {
   "cell_type": "code",
   "execution_count": 46,
   "metadata": {},
   "outputs": [
    {
     "name": "stdout",
     "output_type": "stream",
     "text": [
      "8.63 s ± 86.8 ms per loop (mean ± std. dev. of 7 runs, 1 loop each)\n"
     ]
    }
   ],
   "source": [
    "%%timeit\n",
    "my_permutations(string_in, remove_dupes=False)"
   ]
  },
  {
   "cell_type": "code",
   "execution_count": 47,
   "metadata": {},
   "outputs": [
    {
     "name": "stdout",
     "output_type": "stream",
     "text": [
      "8.27 s ± 62.4 ms per loop (mean ± std. dev. of 7 runs, 1 loop each)\n"
     ]
    }
   ],
   "source": [
    "%%timeit\n",
    "perms_with_dupes(string_in)"
   ]
  },
  {
   "cell_type": "code",
   "execution_count": 48,
   "metadata": {},
   "outputs": [
    {
     "name": "stdout",
     "output_type": "stream",
     "text": [
      "1.58 s ± 22.9 ms per loop (mean ± std. dev. of 7 runs, 1 loop each)\n"
     ]
    }
   ],
   "source": [
    "%%timeit\n",
    "other_permutations(string_in)"
   ]
  },
  {
   "cell_type": "code",
   "execution_count": null,
   "metadata": {},
   "outputs": [],
   "source": []
  }
 ],
 "metadata": {
  "kernelspec": {
   "display_name": "Python [conda env:Py36]",
   "language": "python",
   "name": "conda-env-Py36-py"
  },
  "language_info": {
   "codemirror_mode": {
    "name": "ipython",
    "version": 3
   },
   "file_extension": ".py",
   "mimetype": "text/x-python",
   "name": "python",
   "nbconvert_exporter": "python",
   "pygments_lexer": "ipython3",
   "version": "3.6.2"
  }
 },
 "nbformat": 4,
 "nbformat_minor": 2
}
