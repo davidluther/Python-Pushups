{
 "cells": [
  {
   "cell_type": "markdown",
   "metadata": {},
   "source": [
    "# Palindromic List?"
   ]
  },
  {
   "cell_type": "code",
   "execution_count": 47,
   "metadata": {},
   "outputs": [],
   "source": [
    "import string\n",
    "import numpy as np"
   ]
  },
  {
   "cell_type": "code",
   "execution_count": 133,
   "metadata": {},
   "outputs": [],
   "source": [
    "def check_edges(list_in):\n",
    "    '''Edge cases for all functions'''\n",
    "    \n",
    "    assert isinstance(list_in, list), \"Not a list\"\n",
    "    assert len(list_in) > 0, \"Zero-length list\""
   ]
  },
  {
   "cell_type": "code",
   "execution_count": 27,
   "metadata": {},
   "outputs": [],
   "source": [
    "def pal_check_iter(list_in):\n",
    "    '''Checks if list is palindrome by iterating over first half'''\n",
    "    \n",
    "    check_edges(list_in)\n",
    "    \n",
    "    if len(list_in) == 1:\n",
    "        return True\n",
    "    \n",
    "    end_ix = len(list_in) // 2\n",
    "    for ix, val in enumerate(list_in[:end_ix]):\n",
    "        if val != list_in[-ix - 1]:\n",
    "            return False\n",
    "    \n",
    "    return True"
   ]
  },
  {
   "cell_type": "code",
   "execution_count": 37,
   "metadata": {},
   "outputs": [],
   "source": [
    "def pal_check_rec(list_in):\n",
    "    '''Checks if list is palindrome by recursion'''\n",
    "    \n",
    "    check_edges(list_in)\n",
    "    \n",
    "    if len(list_in) == 1:\n",
    "        return True\n",
    "    if list_in[0] != list_in[-1]:\n",
    "        return False\n",
    "    if len(list_in) == 2:\n",
    "        return True\n",
    "    else:\n",
    "        return pal_check_rec(list_in[1:-1])"
   ]
  },
  {
   "cell_type": "code",
   "execution_count": 105,
   "metadata": {},
   "outputs": [],
   "source": [
    "def generate_list(str_len, min_len=None, pal_proba=0.5):\n",
    "    '''Generates a palindromic or nearly-palindromic list within \n",
    "    given length ranges and probability of being a palindrome'''\n",
    "    \n",
    "    # vars\n",
    "    chars = [c for c in string.ascii_letters + string.digits]\n",
    "    \n",
    "    # generate random str_len if min_len\n",
    "    if min_len and min_len != str_len :\n",
    "        assert min_len < str_len, \"Min length greater than str length\"\n",
    "        str_len = np.random.randint(min_len, str_len)\n",
    "    \n",
    "    # make base palindrome\n",
    "    first_half = np.random.choice(chars, (str_len + 1) // 2)\n",
    "    if str_len % 2 == 0:\n",
    "        start_ix = 0\n",
    "    else:\n",
    "        start_ix = 1\n",
    "    base_pal = np.append(first_half, first_half[start_ix:][::-1])\n",
    "\n",
    "    # flip coin for pal (1) v. not (0)\n",
    "    str_type = np.random.choice(['pal', 'reg'], p=[pal_proba,1-pal_proba])\n",
    "    \n",
    "    # return if palindrome\n",
    "    if str_type == 'pal':\n",
    "        return list(base_pal)\n",
    "    \n",
    "    # alter if not\n",
    "    else:\n",
    "        edits = 1 + str_len // 10\n",
    "        for _ in range(edits):\n",
    "            edit_ix = np.random.randint(str_len)\n",
    "            base_pal[edit_ix] = np.random.choice(chars)\n",
    "        return list(base_pal)"
   ]
  },
  {
   "cell_type": "markdown",
   "metadata": {},
   "source": [
    "### Test Functions with Lists of Different Lengths"
   ]
  },
  {
   "cell_type": "code",
   "execution_count": 132,
   "metadata": {},
   "outputs": [
    {
     "name": "stdout",
     "output_type": "stream",
     "text": [
      "['r', 'X', 'u', '0', '1', '1', '0', 'u', 'X', 'r']\n",
      "Iterative test: True\n",
      "Recursive test: True\n",
      "['3', 'n', 'o', 'y', 'B', 'z', 'z', 'B', 'y', 'o', 'n']\n",
      "Iterative test: False\n",
      "Recursive test: False\n",
      "['L', 'Z', 'X', 'G', 'g', 'X', 'T', 'Q', 'C', 'C', 'Q', 'T', 'X', 'g', 'G', 'X', 'Z']\n",
      "Iterative test: False\n",
      "Recursive test: False\n",
      "['A', 'S', 'i', 'D', 'q', 'q', 'D', 'i', 'S']\n",
      "Iterative test: False\n",
      "Recursive test: False\n",
      "['l', 'q', 't', 'U', '7', '7', 'U', 't', 'q']\n",
      "Iterative test: False\n",
      "Recursive test: False\n",
      "['J', 'c', 'L', 'z', 'S', 'R', 'D', 'D', 'R', 'S', 'z', 'L', 'c', 'J']\n",
      "Iterative test: True\n",
      "Recursive test: True\n",
      "['7', 'h', 'h', 'f', '8', 'L', '0', 'K', '2', '2', 'K', '0', 'L', '8', 'f', 'h', 'h']\n",
      "Iterative test: False\n",
      "Recursive test: False\n",
      "['X', 'd', 'd']\n",
      "Iterative test: False\n",
      "Recursive test: False\n",
      "['E', 'W', 'z', '8', '1', 'z', 'W']\n",
      "Iterative test: False\n",
      "Recursive test: False\n",
      "['1', 'K', 'K', '1']\n",
      "Iterative test: True\n",
      "Recursive test: True\n"
     ]
    }
   ],
   "source": [
    "for i in range(10):\n",
    "    test_list = generate_list(np.random.randint(3,20))\n",
    "    print(test_list)\n",
    "    print(\"Iterative test:\", pal_check_iter(test_list))\n",
    "    print(\"Recursive test:\", pal_check_rec(test_list))"
   ]
  },
  {
   "cell_type": "markdown",
   "metadata": {},
   "source": [
    "Both work and seem to agree with each other."
   ]
  },
  {
   "cell_type": "markdown",
   "metadata": {},
   "source": [
    "### Time Both Functions"
   ]
  },
  {
   "cell_type": "code",
   "execution_count": 151,
   "metadata": {},
   "outputs": [
    {
     "name": "stdout",
     "output_type": "stream",
     "text": [
      "Pal? True\n"
     ]
    }
   ],
   "source": [
    "n = 20\n",
    "test_list = generate_list(1000)\n",
    "#print(test_list)\n",
    "print(\"Pal?\", pal_check_iter(test_list))"
   ]
  },
  {
   "cell_type": "code",
   "execution_count": 152,
   "metadata": {},
   "outputs": [
    {
     "name": "stdout",
     "output_type": "stream",
     "text": [
      "86 µs ± 2.62 µs per loop (mean ± std. dev. of 7 runs, 10000 loops each)\n"
     ]
    }
   ],
   "source": [
    "%%timeit\n",
    "pal_check_iter(test_list)"
   ]
  },
  {
   "cell_type": "code",
   "execution_count": 153,
   "metadata": {},
   "outputs": [
    {
     "name": "stdout",
     "output_type": "stream",
     "text": [
      "1.88 ms ± 23.1 µs per loop (mean ± std. dev. of 7 runs, 1000 loops each)\n"
     ]
    }
   ],
   "source": [
    "%%timeit\n",
    "pal_check_rec(test_list)"
   ]
  },
  {
   "cell_type": "markdown",
   "metadata": {},
   "source": [
    "Iterative smokes recursive in all cases! Reaches max recursive depth with 10000-length list."
   ]
  },
  {
   "cell_type": "code",
   "execution_count": null,
   "metadata": {},
   "outputs": [],
   "source": []
  }
 ],
 "metadata": {
  "kernelspec": {
   "display_name": "Python [conda env:Py36]",
   "language": "python",
   "name": "conda-env-Py36-py"
  },
  "language_info": {
   "codemirror_mode": {
    "name": "ipython",
    "version": 3
   },
   "file_extension": ".py",
   "mimetype": "text/x-python",
   "name": "python",
   "nbconvert_exporter": "python",
   "pygments_lexer": "ipython3",
   "version": "3.6.2"
  }
 },
 "nbformat": 4,
 "nbformat_minor": 2
}
