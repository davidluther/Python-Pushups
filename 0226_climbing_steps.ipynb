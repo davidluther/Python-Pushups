{
 "cells": [
  {
   "cell_type": "markdown",
   "metadata": {
    "nbpresent": {
     "id": "9b883a10-d8e4-4fcd-a5fd-4430c41904d6"
    }
   },
   "source": [
    "# Recursive Step-Climbing"
   ]
  },
  {
   "cell_type": "markdown",
   "metadata": {
    "nbpresent": {
     "id": "85f2c23e-931b-4646-9c40-29dc6a4b16d6"
    }
   },
   "source": [
    "If a child can climb steps one, two, or three at a time, how many ways can she climb n steps?\n",
    "\n",
    "Two choices: base case of 0 returns 0 or 1."
   ]
  },
  {
   "cell_type": "code",
   "execution_count": 72,
   "metadata": {
    "nbpresent": {
     "id": "cc0fff01-b1c5-4cd2-b6a8-9c2ba12fb81e"
    }
   },
   "outputs": [],
   "source": [
    "# if zero returns zero, more base cases need to be defined\n",
    "\n",
    "def ways_to_climb(n):\n",
    "    \"\"\"Base case of 0 returns 0\"\"\"\n",
    "    \n",
    "    if n == 0:\n",
    "        return 0\n",
    "    elif n == 1:\n",
    "        return 1\n",
    "    elif n == 2:\n",
    "        return 2\n",
    "    elif n == 3:\n",
    "        # could also just return 4\n",
    "        return 1 + ways_to_climb(n-1) + ways_to_climb(n-2)\n",
    "    else:\n",
    "        return ways_to_climb(n-1) + ways_to_climb(n-2) + ways_to_climb(n-3)"
   ]
  },
  {
   "cell_type": "code",
   "execution_count": 71,
   "metadata": {
    "nbpresent": {
     "id": "48201732-a9fc-4327-ace4-00141bdb64d1"
    }
   },
   "outputs": [],
   "source": [
    "# if zero returns one, only one other base case need be defined.\n",
    "\n",
    "def ways_to_climb2(n):\n",
    "    \"\"\"Base case of 0 returns 1\"\"\"\n",
    "    \n",
    "    if n < 0:\n",
    "        return 0\n",
    "    elif n == 0:\n",
    "        return 1\n",
    "    else:\n",
    "        return ways_to_climb2(n-1) + ways_to_climb2(n-2) + ways_to_climb2(n-3)"
   ]
  },
  {
   "cell_type": "code",
   "execution_count": 81,
   "metadata": {},
   "outputs": [
    {
     "name": "stdout",
     "output_type": "stream",
     "text": [
      "3 steps: 4 ways\n",
      "Methods agree? True\n",
      "4 steps: 7 ways\n",
      "Methods agree? True\n",
      "5 steps: 13 ways\n",
      "Methods agree? True\n",
      "6 steps: 24 ways\n",
      "Methods agree? True\n",
      "7 steps: 44 ways\n",
      "Methods agree? True\n",
      "8 steps: 81 ways\n",
      "Methods agree? True\n",
      "9 steps: 149 ways\n",
      "Methods agree? True\n",
      "10 steps: 274 ways\n",
      "Methods agree? True\n",
      "11 steps: 504 ways\n",
      "Methods agree? True\n",
      "12 steps: 927 ways\n",
      "Methods agree? True\n",
      "13 steps: 1705 ways\n",
      "Methods agree? True\n",
      "14 steps: 3136 ways\n",
      "Methods agree? True\n"
     ]
    }
   ],
   "source": [
    "for i in range(3,15):\n",
    "    print(f\"{i} steps: {ways_to_climb(i)} ways\")\n",
    "    print(\"Methods agree?\", ways_to_climb(i) == ways_to_climb2(i))"
   ]
  },
  {
   "cell_type": "code",
   "execution_count": 79,
   "metadata": {
    "nbpresent": {
     "id": "3b1899cd-3a7d-4719-9038-f4487d057587"
    }
   },
   "outputs": [
    {
     "name": "stdout",
     "output_type": "stream",
     "text": [
      "8.99 µs ± 455 ns per loop (mean ± std. dev. of 7 runs, 100000 loops each)\n"
     ]
    }
   ],
   "source": [
    "%%timeit\n",
    "ways_to_climb2(5)"
   ]
  },
  {
   "cell_type": "code",
   "execution_count": 80,
   "metadata": {
    "nbpresent": {
     "id": "1169dd6b-ec6f-466d-96c1-22e63a0c97ff"
    }
   },
   "outputs": [
    {
     "name": "stdout",
     "output_type": "stream",
     "text": [
      "2.61 µs ± 102 ns per loop (mean ± std. dev. of 7 runs, 100000 loops each)\n"
     ]
    }
   ],
   "source": [
    "%%timeit\n",
    "ways_to_climb(5)"
   ]
  },
  {
   "cell_type": "code",
   "execution_count": 78,
   "metadata": {},
   "outputs": [
    {
     "name": "stdout",
     "output_type": "stream",
     "text": [
      "1.84 s ± 65.6 ms per loop (mean ± std. dev. of 7 runs, 1 loop each)\n"
     ]
    }
   ],
   "source": [
    "%%timeit\n",
    "ways_to_climb2(25)"
   ]
  },
  {
   "cell_type": "code",
   "execution_count": 77,
   "metadata": {},
   "outputs": [
    {
     "name": "stdout",
     "output_type": "stream",
     "text": [
      "563 ms ± 23.7 ms per loop (mean ± std. dev. of 7 runs, 1 loop each)\n"
     ]
    }
   ],
   "source": [
    "%%timeit\n",
    "ways_to_climb(25)"
   ]
  },
  {
   "cell_type": "markdown",
   "metadata": {
    "nbpresent": {
     "id": "06c7e118-6a30-494d-95b5-bd1d08a5cd99"
    }
   },
   "source": [
    "Though the second method is far more elegant, it is also ~3x slower than the first that defines more base cases.\n",
    "\n",
    "In both cases, the runtime is O(3^n), given the branching for non-base-case numbers. This can theoretically be addressed by caching, resulting in O(n) runtime:"
   ]
  },
  {
   "cell_type": "code",
   "execution_count": 118,
   "metadata": {},
   "outputs": [],
   "source": [
    "from functools import lru_cache\n",
    "from time import perf_counter"
   ]
  },
  {
   "cell_type": "code",
   "execution_count": 121,
   "metadata": {},
   "outputs": [],
   "source": [
    "@lru_cache(maxsize=None)\n",
    "def ways_lru(n):\n",
    "    \"\"\"Base case of 0 returns 1\"\"\"\n",
    "    \n",
    "    if n < 0:\n",
    "        return 0\n",
    "    elif n == 0:\n",
    "        return 1\n",
    "    else:\n",
    "        return ways_lru(n-1) + ways_lru(n-2) + ways_lru(n-3)    "
   ]
  },
  {
   "cell_type": "code",
   "execution_count": 133,
   "metadata": {},
   "outputs": [
    {
     "name": "stdout",
     "output_type": "stream",
     "text": [
      "2.6 µs ± 158 ns per loop (mean ± std. dev. of 7 runs, 100000 loops each)\n"
     ]
    }
   ],
   "source": [
    "%%timeit\n",
    "ways_to_climb(5)"
   ]
  },
  {
   "cell_type": "code",
   "execution_count": 134,
   "metadata": {},
   "outputs": [
    {
     "name": "stdout",
     "output_type": "stream",
     "text": [
      "9.09 µs ± 572 ns per loop (mean ± std. dev. of 7 runs, 100000 loops each)\n"
     ]
    }
   ],
   "source": [
    "%%timeit\n",
    "ways_to_climb2(5)"
   ]
  },
  {
   "cell_type": "code",
   "execution_count": 135,
   "metadata": {},
   "outputs": [
    {
     "name": "stdout",
     "output_type": "stream",
     "text": [
      "4.44 µs ± 123 ns per loop (mean ± std. dev. of 7 runs, 100000 loops each)\n"
     ]
    }
   ],
   "source": [
    "%%timeit\n",
    "ways_lru(5)\n",
    "ways_lru.cache_clear()"
   ]
  },
  {
   "cell_type": "code",
   "execution_count": 122,
   "metadata": {},
   "outputs": [
    {
     "name": "stdout",
     "output_type": "stream",
     "text": [
      "556 ms ± 25.5 ms per loop (mean ± std. dev. of 7 runs, 1 loop each)\n"
     ]
    }
   ],
   "source": [
    "%%timeit\n",
    "ways_to_climb(25)"
   ]
  },
  {
   "cell_type": "code",
   "execution_count": 123,
   "metadata": {},
   "outputs": [
    {
     "name": "stdout",
     "output_type": "stream",
     "text": [
      "1.71 s ± 83 ms per loop (mean ± std. dev. of 7 runs, 1 loop each)\n"
     ]
    }
   ],
   "source": [
    "%%timeit\n",
    "ways_to_climb2(25)"
   ]
  },
  {
   "cell_type": "code",
   "execution_count": 129,
   "metadata": {},
   "outputs": [
    {
     "name": "stdout",
     "output_type": "stream",
     "text": [
      "20.7 µs ± 864 ns per loop (mean ± std. dev. of 7 runs, 10000 loops each)\n"
     ]
    }
   ],
   "source": [
    "%%timeit\n",
    "ways_lru(25)\n",
    "ways_lru.cache_clear()"
   ]
  },
  {
   "cell_type": "markdown",
   "metadata": {},
   "source": [
    "When n = 5, the cached version of the second function doubles its speed, though this is still 2x faster than the first version with more base cases. However, when n = 25, caching makes the second version 85000x faster, which is 30000x faster than the first version.\n",
    "\n",
    "Calculating ways for the following values would be all but impossible without caching:"
   ]
  },
  {
   "cell_type": "code",
   "execution_count": 136,
   "metadata": {},
   "outputs": [
    {
     "data": {
      "text/plain": [
       "53560898629395777"
      ]
     },
     "execution_count": 136,
     "metadata": {},
     "output_type": "execute_result"
    }
   ],
   "source": [
    "ways_lru(64)"
   ]
  },
  {
   "cell_type": "code",
   "execution_count": 141,
   "metadata": {},
   "outputs": [
    {
     "data": {
      "text/plain": [
       "15762679542071167858843489"
      ]
     },
     "execution_count": 141,
     "metadata": {},
     "output_type": "execute_result"
    }
   ],
   "source": [
    "ways_lru(96)"
   ]
  },
  {
   "cell_type": "code",
   "execution_count": 137,
   "metadata": {
    "scrolled": true
   },
   "outputs": [
    {
     "data": {
      "text/plain": [
       "4638870383135538408512224554475137"
      ]
     },
     "execution_count": 137,
     "metadata": {},
     "output_type": "execute_result"
    }
   ],
   "source": [
    "ways_lru(128)"
   ]
  },
  {
   "cell_type": "code",
   "execution_count": 139,
   "metadata": {},
   "outputs": [
    {
     "data": {
      "text/plain": [
       "34796935957082855371882750194188523142001383274839666635652139388161"
      ]
     },
     "execution_count": 139,
     "metadata": {},
     "output_type": "execute_result"
    }
   ],
   "source": [
    "ways_lru(256)"
   ]
  },
  {
   "cell_type": "code",
   "execution_count": 142,
   "metadata": {},
   "outputs": [
    {
     "data": {
      "text/plain": [
       "CacheInfo(hits=513, misses=259, maxsize=None, currsize=259)"
      ]
     },
     "execution_count": 142,
     "metadata": {},
     "output_type": "execute_result"
    }
   ],
   "source": [
    "ways_lru.cache_info()"
   ]
  },
  {
   "cell_type": "code",
   "execution_count": null,
   "metadata": {},
   "outputs": [],
   "source": []
  }
 ],
 "metadata": {
  "kernelspec": {
   "display_name": "Python [conda env:Py36]",
   "language": "python",
   "name": "conda-env-Py36-py"
  },
  "language_info": {
   "codemirror_mode": {
    "name": "ipython",
    "version": 3
   },
   "file_extension": ".py",
   "mimetype": "text/x-python",
   "name": "python",
   "nbconvert_exporter": "python",
   "pygments_lexer": "ipython3",
   "version": "3.6.2"
  }
 },
 "nbformat": 4,
 "nbformat_minor": 2
}
