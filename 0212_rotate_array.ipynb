{
 "cells": [
  {
   "cell_type": "markdown",
   "metadata": {},
   "source": [
    "# Rotate Array 90 Degrees"
   ]
  },
  {
   "cell_type": "code",
   "execution_count": 3,
   "metadata": {},
   "outputs": [],
   "source": [
    "import numpy as np\n",
    "from copy import deepcopy\n",
    "import random"
   ]
  },
  {
   "cell_type": "code",
   "execution_count": 4,
   "metadata": {},
   "outputs": [],
   "source": [
    "def gen_array(m, start, stop):\n",
    "    '''Generates m x m array from indicated range'''\n",
    "    \n",
    "    arr = [[random.randrange(start, stop) for _ in range(m)] for _ in range(m)]\n",
    "    \n",
    "    return arr"
   ]
  },
  {
   "cell_type": "code",
   "execution_count": 5,
   "metadata": {},
   "outputs": [],
   "source": [
    "def test_rotation(arr1, arr2):\n",
    "    '''Return True if arr2 is 90 deg CW rotation of arr1'''\n",
    "    \n",
    "    dim = len(arr1)\n",
    "    for ix_i, row in enumerate(arr1):\n",
    "        ix_j_2 = dim - ix_i - 1\n",
    "        for ix_j, n in enumerate(row):\n",
    "            if n != arr2[ix_j][ix_j_2]:\n",
    "                return False\n",
    "    \n",
    "    return True"
   ]
  },
  {
   "cell_type": "code",
   "execution_count": 6,
   "metadata": {},
   "outputs": [],
   "source": [
    "def rotate_arr(M, cw=True):\n",
    "    '''Iterative approach to rotating a square array in place'''\n",
    "    \n",
    "    # set dimension variable\n",
    "    dim = len(M[0])\n",
    "    \n",
    "    # edges, checks, etc.\n",
    "    assert dim == len(M[0]), \"Must be a square array\"\n",
    "    assert dim > 0, \"0-length array\"\n",
    "    if dim == 1:\n",
    "        return M\n",
    "    \n",
    "    # algo\n",
    "    for a, row in enumerate(M[:dim//2]):\n",
    "        # a is min index, z is max index\n",
    "        z = dim - 1 - a\n",
    "        row_sub = row[a:-1-a]\n",
    "        # print(z, row_sub)\n",
    "        for b, val in enumerate(row_sub, a):\n",
    "            # b starts at min index and increments by 1\n",
    "            # c starts at max index and increments by -1\n",
    "            c = dim - 1 - b\n",
    "            # print(f\"({a}, {b}), ({b}, {z}), ({z}, {c}), ({c}, {a})\")\n",
    "            M[b][z], M[z][c], M[c][a], M[a][b] = val, M[b][z], M[z][c], M[c][a]\n",
    "    \n",
    "    return M"
   ]
  },
  {
   "cell_type": "code",
   "execution_count": 7,
   "metadata": {},
   "outputs": [],
   "source": [
    "def reduce_array(arr_in):\n",
    "    '''Returns array with outer layer stripped'''\n",
    "    \n",
    "    assert len(arr_in) > 1, \"Cannot be reduced futher\"\n",
    "    \n",
    "    if len(arr_in) == 2:\n",
    "        return [[]]\n",
    "    \n",
    "    arr_out = []\n",
    "    for row in arr_in[1:-1]:\n",
    "        arr_out.append(row[1:-1])\n",
    "    \n",
    "    return arr_out"
   ]
  },
  {
   "cell_type": "code",
   "execution_count": 8,
   "metadata": {},
   "outputs": [],
   "source": [
    "def rotate_outer_layer(M):\n",
    "    '''Rotates outer layer of square matrix'''\n",
    "    \n",
    "    z = len(M) - 1\n",
    "    for b, val in enumerate(M[0][:-1]):\n",
    "        c = z - b\n",
    "        # print(f\"({0}, {b}), ({b}, {z}), ({z}, {c}), ({c}, {0})\")\n",
    "        M[b][z], M[z][c], M[c][0], M[0][b] = val, M[b][z], M[z][c], M[c][0]\n",
    "    return M"
   ]
  },
  {
   "cell_type": "code",
   "execution_count": 15,
   "metadata": {},
   "outputs": [],
   "source": [
    "def rotate_arr_rec(M, cw=True):\n",
    "    '''Recursive approach to rotating a square array'''\n",
    "    \n",
    "    dim = len(M[0])\n",
    "    \n",
    "    # bases (0 or 1)\n",
    "    if dim <= 1:\n",
    "        return M\n",
    "    \n",
    "    # rotate outer layer\n",
    "    M = rotate_outer_layer(M)\n",
    "    \n",
    "    # recursion\n",
    "    M_sub = rotate_arr_rec(reduce_array(M))\n",
    "\n",
    "    # replace inner square with M_sub and return\n",
    "    for row, row_in in zip(M[1:-1], M_sub):\n",
    "        row[1:-1] = row_in\n",
    "    return M"
   ]
  },
  {
   "cell_type": "code",
   "execution_count": 16,
   "metadata": {
    "scrolled": true
   },
   "outputs": [
    {
     "name": "stdout",
     "output_type": "stream",
     "text": [
      "[61, 68, 43, 13, 74, 4, 61, 23, 20, 21]\n",
      "[49, 99, 69, 11, 51, 87, 55, 54, 92, 9]\n",
      "[48, 48, 86, 62, 79, 0, 70, 1, 3, 80]\n",
      "[98, 19, 63, 7, 98, 55, 86, 28, 66, 57]\n",
      "[17, 43, 90, 0, 1, 15, 49, 9, 30, 19]\n",
      "[47, 70, 65, 25, 98, 9, 3, 15, 64, 85]\n",
      "[72, 93, 99, 42, 79, 78, 63, 57, 57, 86]\n",
      "[71, 3, 41, 83, 41, 70, 67, 44, 72, 84]\n",
      "[52, 64, 56, 29, 88, 28, 31, 84, 87, 72]\n",
      "[16, 1, 49, 92, 92, 47, 40, 8, 16, 66]\n"
     ]
    }
   ],
   "source": [
    "test_arr = gen_array(10,0,100)\n",
    "for row in test_arr:\n",
    "    print(row)"
   ]
  },
  {
   "cell_type": "code",
   "execution_count": 17,
   "metadata": {},
   "outputs": [
    {
     "name": "stdout",
     "output_type": "stream",
     "text": [
      "[16, 52, 71, 72, 47, 17, 98, 48, 49, 61]\n",
      "[1, 64, 3, 93, 70, 43, 19, 48, 99, 68]\n",
      "[49, 56, 41, 99, 65, 90, 63, 86, 69, 43]\n",
      "[92, 29, 83, 42, 25, 0, 7, 62, 11, 13]\n",
      "[92, 88, 41, 79, 98, 1, 98, 79, 51, 74]\n",
      "[47, 28, 70, 78, 9, 15, 55, 0, 87, 4]\n",
      "[40, 31, 67, 63, 3, 49, 86, 70, 55, 61]\n",
      "[8, 84, 44, 57, 15, 9, 28, 1, 54, 23]\n",
      "[16, 87, 72, 57, 64, 30, 66, 3, 92, 20]\n",
      "[66, 72, 84, 86, 85, 19, 57, 80, 9, 21]\n"
     ]
    }
   ],
   "source": [
    "rotated_arr = rotate_arr(deepcopy(test_arr))\n",
    "for row in rotated_arr:\n",
    "    print(row)"
   ]
  },
  {
   "cell_type": "code",
   "execution_count": 18,
   "metadata": {},
   "outputs": [
    {
     "name": "stdout",
     "output_type": "stream",
     "text": [
      "[16, 52, 71, 72, 47, 17, 98, 48, 49, 61]\n",
      "[1, 64, 3, 93, 70, 43, 19, 48, 99, 68]\n",
      "[49, 56, 41, 99, 65, 90, 63, 86, 69, 43]\n",
      "[92, 29, 83, 42, 25, 0, 7, 62, 11, 13]\n",
      "[92, 88, 41, 79, 98, 1, 98, 79, 51, 74]\n",
      "[47, 28, 70, 78, 9, 15, 55, 0, 87, 4]\n",
      "[40, 31, 67, 63, 3, 49, 86, 70, 55, 61]\n",
      "[8, 84, 44, 57, 15, 9, 28, 1, 54, 23]\n",
      "[16, 87, 72, 57, 64, 30, 66, 3, 92, 20]\n",
      "[66, 72, 84, 86, 85, 19, 57, 80, 9, 21]\n"
     ]
    }
   ],
   "source": [
    "rotated_arr2 = rotate_arr_rec(deepcopy(test_arr))\n",
    "for row in rotated_arr2:\n",
    "    print(row)"
   ]
  },
  {
   "cell_type": "code",
   "execution_count": 19,
   "metadata": {},
   "outputs": [
    {
     "data": {
      "text/plain": [
       "True"
      ]
     },
     "execution_count": 19,
     "metadata": {},
     "output_type": "execute_result"
    }
   ],
   "source": [
    "test_rotation(test_arr, rotated_arr2)"
   ]
  },
  {
   "cell_type": "code",
   "execution_count": 20,
   "metadata": {},
   "outputs": [
    {
     "data": {
      "text/plain": [
       "True"
      ]
     },
     "execution_count": 20,
     "metadata": {},
     "output_type": "execute_result"
    }
   ],
   "source": [
    "rotated_arr == rotated_arr2"
   ]
  },
  {
   "cell_type": "markdown",
   "metadata": {},
   "source": [
    "### Timing"
   ]
  },
  {
   "cell_type": "code",
   "execution_count": 423,
   "metadata": {},
   "outputs": [
    {
     "name": "stdout",
     "output_type": "stream",
     "text": [
      "(1000, 1000)\n"
     ]
    }
   ],
   "source": [
    "test_arr = list(np.random.randint(100, size=(1000,1000)))\n",
    "print(f\"({len(test_arr)}, {len(test_arr[0])})\")"
   ]
  },
  {
   "cell_type": "code",
   "execution_count": 424,
   "metadata": {},
   "outputs": [],
   "source": [
    "tests = []\n",
    "for _ in range(2):\n",
    "    tests.append(deepcopy(test_arr))"
   ]
  },
  {
   "cell_type": "code",
   "execution_count": 425,
   "metadata": {},
   "outputs": [
    {
     "name": "stdout",
     "output_type": "stream",
     "text": [
      "263 ms ± 8.19 ms per loop (mean ± std. dev. of 7 runs, 1 loop each)\n"
     ]
    }
   ],
   "source": [
    "%%timeit\n",
    "rotate_arr(tests[0])"
   ]
  },
  {
   "cell_type": "code",
   "execution_count": 426,
   "metadata": {},
   "outputs": [
    {
     "name": "stdout",
     "output_type": "stream",
     "text": [
      "486 ms ± 34.7 ms per loop (mean ± std. dev. of 7 runs, 1 loop each)\n"
     ]
    }
   ],
   "source": [
    "%%timeit\n",
    "rotate_arr_rec(tests[1])"
   ]
  },
  {
   "cell_type": "markdown",
   "metadata": {},
   "source": [
    "Iterative approach is nearly 2x faster with all sizes of arrays."
   ]
  },
  {
   "cell_type": "code",
   "execution_count": null,
   "metadata": {},
   "outputs": [],
   "source": []
  }
 ],
 "metadata": {
  "kernelspec": {
   "display_name": "Python [conda env:Py36]",
   "language": "python",
   "name": "conda-env-Py36-py"
  },
  "language_info": {
   "codemirror_mode": {
    "name": "ipython",
    "version": 3
   },
   "file_extension": ".py",
   "mimetype": "text/x-python",
   "name": "python",
   "nbconvert_exporter": "python",
   "pygments_lexer": "ipython3",
   "version": "3.6.2"
  }
 },
 "nbformat": 4,
 "nbformat_minor": 2
}
