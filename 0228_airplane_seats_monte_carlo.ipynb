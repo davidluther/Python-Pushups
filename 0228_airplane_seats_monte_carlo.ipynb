{
 "cells": [
  {
   "cell_type": "markdown",
   "metadata": {},
   "source": [
    "# Airplane Seats"
   ]
  },
  {
   "cell_type": "markdown",
   "metadata": {},
   "source": [
    "An airplane has 20 seats numbered from 1 to 20, and each of 20 passengers has an assigned seat. Everyone queues up in a civil fashion except for one knucklehead, who pushes his way to the front of the line. Then, without even looking at his seat assignment, he boards and sits wherever he feels like sitting. Then the others board. If their assigned seats are open, they sit there; otherwise, they choose an open seat at random. \n",
    "\n",
    "What is the probability that the 12th person's assigned seat is open?"
   ]
  },
  {
   "cell_type": "code",
   "execution_count": 4,
   "metadata": {},
   "outputs": [],
   "source": [
    "import random\n",
    "import matplotlib.pyplot as plt\n",
    "%matplotlib inline"
   ]
  },
  {
   "cell_type": "markdown",
   "metadata": {},
   "source": [
    "### Monte Carlo Solution"
   ]
  },
  {
   "cell_type": "code",
   "execution_count": 191,
   "metadata": {},
   "outputs": [],
   "source": [
    "class airplane_seats():\n",
    "\n",
    "    def __init__(self, seats=20):\n",
    "        self.seats = seats\n",
    "        \n",
    "    def calc_prob(self, n, iters=1000):\n",
    "        \"\"\"Calculate probability that nth passenger's seat is open using\n",
    "        Monte Carlo method\"\"\"\n",
    "        \n",
    "        assert n <= self.seats, \"nth passenger exceeds number of seats\"\n",
    "\n",
    "        # add 1 if nth seat open, nothing if not\n",
    "        times_open = 0\n",
    "        \n",
    "        for i in range(iters):\n",
    "#             print(\"\\nRound\", i+1)\n",
    "            taken_seats = set()\n",
    "            \n",
    "            # first passenger randomly chooses a seat\n",
    "            first_seat = random.choice(range(1, self.seats+1))\n",
    "            if first_seat == 1 or first_seat > n:\n",
    "#                 print(\"Passenger 1 takes seat\", first_seat)\n",
    "#                 print(f\"Seat {n} available\")\n",
    "                times_open += 1\n",
    "                continue\n",
    "            else:\n",
    "                # print(\"Passenger 1 takes seat\", first_seat)\n",
    "                taken_seats.add(first_seat)\n",
    "                \n",
    "            # next passengers\n",
    "            for seat in range(2, n):\n",
    "                if seat in taken_seats:\n",
    "                    taken = random.choice(range(seat+1, self.seats+1))\n",
    "                else:\n",
    "                    taken = seat\n",
    "#                 print(f\"Passenger {seat} takes seat {taken}\")\n",
    "                taken_seats.add(taken)\n",
    "                    \n",
    "            if n not in taken_seats:\n",
    "                times_open += 1\n",
    "#                 print(f\"Seat {n} available\")\n",
    "#             else:\n",
    "#                 print(f\"Seat {n} taken\")\n",
    "                \n",
    "        return times_open / iters\n",
    "    \n",
    "    def print_probs(self, iters=1000):\n",
    "        \"\"\"Calculates and prints probability for each nth passenger\"\"\"\n",
    "        \n",
    "        print(\"\\t\\tPROB\")\n",
    "        for i in range(1, self.seats+1):\n",
    "            prob_mc = self.calc_prob(i, iters=iters)\n",
    "            print(f\"Passenger{i}:\\t{prob_mc:.4f}\")"
   ]
  },
  {
   "cell_type": "code",
   "execution_count": 192,
   "metadata": {},
   "outputs": [],
   "source": [
    "airplane_20 = airplane_seats()"
   ]
  },
  {
   "cell_type": "code",
   "execution_count": 193,
   "metadata": {},
   "outputs": [
    {
     "name": "stdout",
     "output_type": "stream",
     "text": [
      "\t\tPROB\n",
      "Passenger1:\t1.0000\n",
      "Passenger2:\t0.9500\n",
      "Passenger3:\t0.9469\n",
      "Passenger4:\t0.9445\n",
      "Passenger5:\t0.9406\n",
      "Passenger6:\t0.9365\n",
      "Passenger7:\t0.9327\n",
      "Passenger8:\t0.9268\n",
      "Passenger9:\t0.9209\n",
      "Passenger10:\t0.9133\n",
      "Passenger11:\t0.9048\n",
      "Passenger12:\t0.8942\n",
      "Passenger13:\t0.8809\n",
      "Passenger14:\t0.8640\n",
      "Passenger15:\t0.8424\n",
      "Passenger16:\t0.8097\n",
      "Passenger17:\t0.7629\n",
      "Passenger18:\t0.6830\n",
      "Passenger19:\t0.5250\n",
      "Passenger20:\t0.0502\n"
     ]
    }
   ],
   "source": [
    "airplane_20.print_probs(1000000)"
   ]
  },
  {
   "cell_type": "markdown",
   "metadata": {},
   "source": [
    "### Analytic Solution, Take 1"
   ]
  },
  {
   "cell_type": "markdown",
   "metadata": {},
   "source": [
    "The first passenger's seat will always be free; this is clear enough:  \n",
    "`P(1) = 1`\n",
    "\n",
    "The second passenger's seat will be free as long as the first didn't sit in it:  \n",
    "`P(2) = 1 - 1/20`\n",
    "\n",
    "Now it starts to get tricky. The third passenger's seat will be free unless 1) P1 sits in S3, or 2) P1 sits in S2 and P2 sits in S3:  \n",
    "`P(3) = 1 - 1/20 - (1/20 * 1/19)`\n",
    "\n",
    "The fourth's will be free unless 1) P1 sits in S4, 2) P1 sits in S2 and P2 sits in S4, 3) P1 sits in S3 and P3 sits in S4, or 4) P1 sits in S2 and P2 sits in S3 and P3 sits in S4:  \n",
    "`P(4) = 1 - 1/20 - (1/20 * 1/19) - (1/20 * 1/18) - (1/20 * 1/19 * 1/18)`\n",
    "\n",
    "The fifth's will be free unless 1) P1 sits in S, 2) P1 sits in S2 and P2 sits in S5, 3) P1 sits in S3 and P3 sits in S5, 4) P1 sits in S4 and P4 sits in S5, 5) P1 sits in S2 and P2 sits in S3 and P3 sits in S5, 6) P1 sits in S2 and P2 sits in S4 and P4 sits in S5, 7) P1 sits in S3 and P3 sits in S4 and P4 sits in S5, 8) P1 sits in S2 and P2 sits in S3 and P3 sits in S4 and P4 sits in S5:  \n",
    "`P(5) = 1 - 1/20 - (1/20 * 1/19) - (1/20 * 1/18) - (1/20 * 1/17) - (1/20 * 1/19 * 1/18) - (1/20 * 1/19 * 1/17) - (1/20 * 1/18 * 1/17) - (1/20 * 1/19 * 1/18 * 1/17)`  \n",
    "\n",
    "Or perhaps more clearly written as:  \n",
    "`P(5) = 1 - 1/20 * (1 + 1/19 + 1/18 + 1/17 + (1/19 * 1/18) + (1/19 * 1/17) + (1/18 * 1/17) + (1/19 * 1/18 * 1/17))`  \n",
    "\n",
    "Now we see a pattern developing: one subtracts all the possible probability combinations that would lead to previous passengers occupying the nth seat. A quick check to see if this squares with the Monte Carlo solution..."
   ]
  },
  {
   "cell_type": "code",
   "execution_count": 173,
   "metadata": {},
   "outputs": [
    {
     "data": {
      "text/plain": [
       "0.95"
      ]
     },
     "execution_count": 173,
     "metadata": {},
     "output_type": "execute_result"
    }
   ],
   "source": [
    "# P2\n",
    "1 - 1/20"
   ]
  },
  {
   "cell_type": "code",
   "execution_count": 174,
   "metadata": {},
   "outputs": [
    {
     "data": {
      "text/plain": [
       "0.9473684210526315"
      ]
     },
     "execution_count": 174,
     "metadata": {},
     "output_type": "execute_result"
    }
   ],
   "source": [
    "# P3\n",
    "1 - 1/20 - (1/20 * 1/19)"
   ]
  },
  {
   "cell_type": "code",
   "execution_count": 175,
   "metadata": {},
   "outputs": [
    {
     "data": {
      "text/plain": [
       "0.9444444444444444"
      ]
     },
     "execution_count": 175,
     "metadata": {},
     "output_type": "execute_result"
    }
   ],
   "source": [
    "# P4\n",
    "1 - 1/20 - (1/20 * 1/19) - (1/20 * 1/18) - (1/20 * 1/19 * 1/18)"
   ]
  },
  {
   "cell_type": "code",
   "execution_count": 179,
   "metadata": {},
   "outputs": [
    {
     "data": {
      "text/plain": [
       "0.9411764705882353"
      ]
     },
     "execution_count": 179,
     "metadata": {},
     "output_type": "execute_result"
    }
   ],
   "source": [
    "# P5\n",
    "(1 - 1/20 \n",
    "   - (1/20 * 1/19) \n",
    "   - (1/20 * 1/18) \n",
    "   - (1/20 * 1/17) \n",
    "   - (1/20 * 1/19 * 1/18) \n",
    "   - (1/20 * 1/19 * 1/17) \n",
    "   - (1/20 * 1/18 * 1/17) \n",
    "   - (1/20 * 1/19 * 1/18 * 1/17)\n",
    ")"
   ]
  },
  {
   "cell_type": "markdown",
   "metadata": {},
   "source": [
    "Incredibly close, but hard to tell at the beginning when the margins are so slim. Let's try with a smaller airplane... "
   ]
  },
  {
   "cell_type": "markdown",
   "metadata": {},
   "source": [
    "#### Five-seater Monte Carlo v. Analytic (v1)"
   ]
  },
  {
   "cell_type": "code",
   "execution_count": 194,
   "metadata": {},
   "outputs": [],
   "source": [
    "airplane_5 = airplane_seats(5)"
   ]
  },
  {
   "cell_type": "code",
   "execution_count": 202,
   "metadata": {},
   "outputs": [
    {
     "name": "stdout",
     "output_type": "stream",
     "text": [
      "\t\tPROB\n",
      "Passenger1:\t1.0000\n",
      "Passenger2:\t0.8004\n",
      "Passenger3:\t0.7333\n",
      "Passenger4:\t0.5998\n",
      "Passenger5:\t0.2000\n"
     ]
    }
   ],
   "source": [
    "airplane_5.print_probs(1000000)"
   ]
  },
  {
   "cell_type": "code",
   "execution_count": 196,
   "metadata": {},
   "outputs": [
    {
     "data": {
      "text/plain": [
       "0.8"
      ]
     },
     "execution_count": 196,
     "metadata": {},
     "output_type": "execute_result"
    }
   ],
   "source": [
    "# P2\n",
    "1 - 1/5"
   ]
  },
  {
   "cell_type": "code",
   "execution_count": 199,
   "metadata": {},
   "outputs": [
    {
     "data": {
      "text/plain": [
       "0.75"
      ]
     },
     "execution_count": 199,
     "metadata": {},
     "output_type": "execute_result"
    }
   ],
   "source": [
    "# P3\n",
    "1 - 1/5 - (1/5 * 1/4)"
   ]
  },
  {
   "cell_type": "code",
   "execution_count": 200,
   "metadata": {},
   "outputs": [
    {
     "data": {
      "text/plain": [
       "0.6666666666666666"
      ]
     },
     "execution_count": 200,
     "metadata": {},
     "output_type": "execute_result"
    }
   ],
   "source": [
    "# P4\n",
    "1 - 1/5 - (1/5 * 1/4) - (1/5 * 1/3) - (1/5 * 1/4 * 1/3)"
   ]
  },
  {
   "cell_type": "code",
   "execution_count": 201,
   "metadata": {},
   "outputs": [
    {
     "data": {
      "text/plain": [
       "0.49999999999999994"
      ]
     },
     "execution_count": 201,
     "metadata": {},
     "output_type": "execute_result"
    }
   ],
   "source": [
    "# P4\n",
    "(1 - 1/5\n",
    "   - (1/5 * 1/4)\n",
    "   - (1/5 * 1/3)\n",
    "   - (1/5 * 1/2)\n",
    "   - (1/5 * 1/4 * 1/3)\n",
    "   - (1/5 * 1/4 * 1/2)\n",
    "   - (1/5 * 1/3 * 1/2)\n",
    "   - (1/5 * 1/4 * 1/3 * 1/2)\n",
    ")"
   ]
  },
  {
   "cell_type": "markdown",
   "metadata": {},
   "source": [
    "Not quite. Back to the drawing board... more coming soon!"
   ]
  },
  {
   "cell_type": "code",
   "execution_count": null,
   "metadata": {},
   "outputs": [],
   "source": []
  }
 ],
 "metadata": {
  "kernelspec": {
   "display_name": "Python [conda env:Py36]",
   "language": "python",
   "name": "conda-env-Py36-py"
  },
  "language_info": {
   "codemirror_mode": {
    "name": "ipython",
    "version": 3
   },
   "file_extension": ".py",
   "mimetype": "text/x-python",
   "name": "python",
   "nbconvert_exporter": "python",
   "pygments_lexer": "ipython3",
   "version": "3.6.2"
  }
 },
 "nbformat": 4,
 "nbformat_minor": 2
}
