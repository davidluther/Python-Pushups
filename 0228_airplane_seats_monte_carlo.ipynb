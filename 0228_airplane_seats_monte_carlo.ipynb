{
 "cells": [
  {
   "cell_type": "markdown",
   "metadata": {},
   "source": [
    "# Airplane Seats"
   ]
  },
  {
   "cell_type": "markdown",
   "metadata": {},
   "source": [
    "An airplane has 20 seats numbered from 1 to 20, and each of 20 passengers has an assigned seat. Everyone queues up in a civil fashion except for one knucklehead, who pushes his way to the front of the line. Then, without even looking at his seat assignment, he boards and sits wherever he feels like sitting. Then the others board. If their assigned seats are open, they sit there; otherwise, they choose an open seat at random. \n",
    "\n",
    "What is the probability that the nth person's assigned seat is open?"
   ]
  },
  {
   "cell_type": "code",
   "execution_count": 5,
   "metadata": {},
   "outputs": [],
   "source": [
    "import random\n",
    "import matplotlib.pyplot as plt\n",
    "%matplotlib inline"
   ]
  },
  {
   "cell_type": "markdown",
   "metadata": {},
   "source": [
    "### Monte Carlo Solution"
   ]
  },
  {
   "cell_type": "code",
   "execution_count": 133,
   "metadata": {},
   "outputs": [],
   "source": [
    "class airplane_seats():\n",
    "\n",
    "    def __init__(self, seats=20):\n",
    "        self.seats = seats\n",
    "        \n",
    "    def calc_prob(self, n, iters=1000):\n",
    "        \"\"\"Calculate probability that nth passenger's seat is open using\n",
    "        Monte Carlo simulation\"\"\"\n",
    "        \n",
    "        assert n <= self.seats, \"nth passenger exceeds number of seats\"\n",
    "\n",
    "        # add 1 if nth seat open, nothing if not\n",
    "        times_open = 0\n",
    "        all_seats = set(range(1, self.seats+1))\n",
    "        \n",
    "        for i in range(iters):\n",
    "            # print(\"\\nRound\", i+1)\n",
    "            taken_seats = set()\n",
    "            \n",
    "            # first passenger randomly chooses a seat\n",
    "            first_seat = random.choice(range(1, self.seats+1))\n",
    "            if first_seat == 1 or first_seat > n:\n",
    "                # print(\"Passenger 1 takes seat\", first_seat)\n",
    "                # print(f\"Seat {n} available\")\n",
    "                times_open += 1\n",
    "                continue\n",
    "            elif first_seat == n:\n",
    "                # print(\"Passenger 1 takes seat\", first_seat)\n",
    "                # print(f\"Seat {n} taken\")\n",
    "                continue\n",
    "            else:\n",
    "                # print(\"Passenger 1 takes seat\", first_seat)\n",
    "                taken_seats.add(first_seat)\n",
    "                \n",
    "            # next passengers\n",
    "            for seat in range(2, n):\n",
    "                if seat in taken_seats:\n",
    "                    remaining_seats = all_seats - taken_seats\n",
    "                    taken = random.choice(tuple(remaining_seats))\n",
    "                else:\n",
    "                    taken = seat\n",
    "                # print(f\"Passenger {seat} takes seat {taken}\")\n",
    "                taken_seats.add(taken)\n",
    "                    \n",
    "            if n not in taken_seats:\n",
    "                times_open += 1\n",
    "                # print(f\"Seat {n} available\")\n",
    "            else:\n",
    "                # print(f\"Seat {n} taken\")\n",
    "                pass\n",
    "                \n",
    "        return times_open / iters\n",
    "\n",
    "    \n",
    "    def fit(self, iters=1000):\n",
    "        \"\"\"Calculates and stores probabilities for each nth passenger\"\"\"\n",
    "    \n",
    "        self.probs = []\n",
    "    \n",
    "        for i in range(1, self.seats+1):\n",
    "            print(f\"\\rCalculating passenger {i} probability\", end=\"\")\n",
    "            prob = self.calc_prob(i, iters=iters)\n",
    "            self.probs.append(prob)\n",
    "        \n",
    "        print(\"\\rDone!                                     \")\n",
    "\n",
    "    \n",
    "    def print_probs(self):\n",
    "        \"\"\"Prints report of probabilities for each passenger\"\"\"\n",
    "        \n",
    "        if len(self.probs) == 0:\n",
    "            print(\"Run self.fit() first\")\n",
    "            return None\n",
    "        \n",
    "        print(\"\\t\\tPROB\")\n",
    "        for i, prob in enumerate(self.probs, 1):\n",
    "            print(f\"Passenger {i}:\\t{prob:.3f}\")            "
   ]
  },
  {
   "cell_type": "code",
   "execution_count": 134,
   "metadata": {},
   "outputs": [
    {
     "data": {
      "text/plain": [
       "20"
      ]
     },
     "execution_count": 134,
     "metadata": {},
     "output_type": "execute_result"
    }
   ],
   "source": [
    "airplane_20 = airplane_seats()\n",
    "airplane_20.seats"
   ]
  },
  {
   "cell_type": "code",
   "execution_count": 135,
   "metadata": {},
   "outputs": [
    {
     "name": "stdout",
     "output_type": "stream",
     "text": [
      "Done!                                     \n"
     ]
    }
   ],
   "source": [
    "airplane_20.fit(1000000)"
   ]
  },
  {
   "cell_type": "code",
   "execution_count": 136,
   "metadata": {},
   "outputs": [
    {
     "name": "stdout",
     "output_type": "stream",
     "text": [
      "\t\tPROB\n",
      "Passenger 1:\t1.000\n",
      "Passenger 2:\t0.950\n",
      "Passenger 3:\t0.947\n",
      "Passenger 4:\t0.944\n",
      "Passenger 5:\t0.942\n",
      "Passenger 6:\t0.938\n",
      "Passenger 7:\t0.933\n",
      "Passenger 8:\t0.928\n",
      "Passenger 9:\t0.923\n",
      "Passenger 10:\t0.917\n",
      "Passenger 11:\t0.909\n",
      "Passenger 12:\t0.900\n",
      "Passenger 13:\t0.889\n",
      "Passenger 14:\t0.875\n",
      "Passenger 15:\t0.858\n",
      "Passenger 16:\t0.833\n",
      "Passenger 17:\t0.800\n",
      "Passenger 18:\t0.750\n",
      "Passenger 19:\t0.668\n",
      "Passenger 20:\t0.500\n"
     ]
    }
   ],
   "source": [
    "airplane_20.print_probs()"
   ]
  },
  {
   "cell_type": "code",
   "execution_count": 116,
   "metadata": {},
   "outputs": [
    {
     "data": {
      "text/plain": [
       "''"
      ]
     },
     "execution_count": 116,
     "metadata": {},
     "output_type": "execute_result"
    },
    {
     "data": {
      "image/png": "[encoded data removed]",
      "text/plain": [
       "<matplotlib.figure.Figure at 0x1170c7198>"
      ]
     },
     "metadata": {},
     "output_type": "display_data"
    }
   ],
   "source": [
    "x = range(1,21)\n",
    "y = airplane_20.probs\n",
    "\n",
    "plt.figure(figsize=(12,8))\n",
    "plt.plot(x, y)\n",
    "plt.xticks(x)\n",
    "plt.yticks([0.1*i for i in range(1,11)])\n",
    "# plt.ylim([0,1])\n",
    "plt.grid(linestyle='--')\n",
    "plt.xlabel(\"Passenger No.\", fontsize=12)\n",
    "plt.ylabel(\"Probability\", fontsize=12)\n",
    "plt.title(\"Probability of Open Seat\", fontsize=16)\n",
    ";"
   ]
  },
  {
   "cell_type": "markdown",
   "metadata": {},
   "source": [
    "### Analytic Solution"
   ]
  },
  {
   "cell_type": "markdown",
   "metadata": {},
   "source": [
    "The first passenger's seat will always be free; this is clear enough:  \n",
    "`P(1) = 1`\n",
    "\n",
    "The second passenger's seat will be free as long as the first didn't sit in it:  \n",
    "`P(2) = 1 - 1/20 = 19/20`\n",
    "\n",
    "Now it starts to get tricky. The third passenger's seat will be free unless 1) P1 sits in S3, or 2) P1 sits in S2 and P2 sits in S3:  \n",
    "`P(3) = 1 - 1/20 - (1/20 * 1/19)`  \n",
    "`P(3) = 380/380 - 19/380 - 1/380`  \n",
    "`P(3) = 360/380 = 18/19`\n",
    "\n",
    "The fourth's will be free unless 1) P1 sits in S4, 2) P1 sits in S2 and P2 sits in S4, 3) P1 sits in S3 and P3 sits in S4, or 4) P1 sits in S2 and P2 sits in S3 and P3 sits in S4:  \n",
    "`P(4) = 1 - 1/20 - (1/20 * 1/19) - (1/20 * 1/18) - (1/20 * 1/19 * 1/18)`  \n",
    "`P(4) = 6840/6840 - 342/6840 - 18/6840 - 19/6840 - 1/6840`  \n",
    "`P(4) = 6460/6840 = 17/18`\n",
    "\n",
    "The fifth's will be free unless 1) P1 sits in S, 2) P1 sits in S2 and P2 sits in S5, 3) P1 sits in S3 and P3 sits in S5, 4) P1 sits in S4 and P4 sits in S5, 5) P1 sits in S2 and P2 sits in S3 and P3 sits in S5, 6) P1 sits in S2 and P2 sits in S4 and P4 sits in S5, 7) P1 sits in S3 and P3 sits in S4 and P4 sits in S5, 8) P1 sits in S2 and P2 sits in S3 and P3 sits in S4 and P4 sits in S5:  \n",
    "`P(5) = 1 - 1/20 - (1/20 * 1/19) - (1/20 * 1/18) - (1/20 * 1/17) - (1/20 * 1/19 * 1/18) - (1/20 * 1/19 * 1/17) - (1/20 * 1/18 * 1/17) - (1/20 * 1/19 * 1/18 * 1/17)`  \n",
    "\n",
    "Saving some steps, this simplifies to:  \n",
    "`P(5) = 16/17`  \n",
    "\n",
    "Clearly there's a pattern here. A quick check to see if this squares with the Monte Carlo simulation..."
   ]
  },
  {
   "cell_type": "code",
   "execution_count": 137,
   "metadata": {},
   "outputs": [
    {
     "name": "stdout",
     "output_type": "stream",
     "text": [
      "Pass.\tP (An)\tP (MC)\n",
      "------------------------\n",
      "P2:\t0.950\t0.950\n",
      "P3:\t0.947\t0.947\n",
      "P4:\t0.944\t0.944\n",
      "P5:\t0.941\t0.942\n",
      "P6:\t0.938\t0.938\n",
      "P7:\t0.933\t0.933\n",
      "P8:\t0.929\t0.928\n",
      "P9:\t0.923\t0.923\n",
      "P10:\t0.917\t0.917\n",
      "P11:\t0.909\t0.909\n",
      "P12:\t0.900\t0.900\n",
      "P13:\t0.889\t0.889\n",
      "P14:\t0.875\t0.875\n",
      "P15:\t0.857\t0.858\n",
      "P16:\t0.833\t0.833\n",
      "P17:\t0.800\t0.800\n",
      "P18:\t0.750\t0.750\n",
      "P19:\t0.667\t0.668\n",
      "P20:\t0.500\t0.500\n"
     ]
    }
   ],
   "source": [
    "print(\"Pass.\\tP (An)\\tP (MC)\")\n",
    "print(\"-\" * 24)\n",
    "for i in range(2,21):\n",
    "    p = (20 - (i - 1)) / (20 - (i - 2))\n",
    "    print(f\"P{i}:\\t{p:.3f}\\t{airplane_20.probs[i-1]:.3f}\")"
   ]
  },
  {
   "cell_type": "markdown",
   "metadata": {},
   "source": [
    "Nearly perfect at 3 sig-digs!"
   ]
  }
 ],
 "metadata": {
  "kernelspec": {
   "display_name": "Python [conda env:Py36]",
   "language": "python",
   "name": "conda-env-Py36-py"
  },
  "language_info": {
   "codemirror_mode": {
    "name": "ipython",
    "version": 3
   },
   "file_extension": ".py",
   "mimetype": "text/x-python",
   "name": "python",
   "nbconvert_exporter": "python",
   "pygments_lexer": "ipython3",
   "version": "3.6.2"
  }
 },
 "nbformat": 4,
 "nbformat_minor": 2
}
