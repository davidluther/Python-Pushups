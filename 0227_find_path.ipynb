{
 "cells": [
  {
   "cell_type": "markdown",
   "metadata": {},
   "source": [
    "# Find A Path"
   ]
  },
  {
   "cell_type": "markdown",
   "metadata": {},
   "source": [
    "A digital penguin or other mobile item begins at the upper left corner of an M x N array (0,0). It can only move to the right or down, and can only move to an unobstructed cell (value = 0). Write a function to return a path to the lower right corner."
   ]
  },
  {
   "cell_type": "code",
   "execution_count": 180,
   "metadata": {},
   "outputs": [],
   "source": [
    "import random"
   ]
  },
  {
   "cell_type": "code",
   "execution_count": 220,
   "metadata": {},
   "outputs": [],
   "source": [
    "def find_path(arr, m=0, n=0, path=\"\"):\n",
    "    \"\"\"Recursive method to find a path from ulc to lrc\"\"\"\n",
    "\n",
    "    # print(f\"\\n({m}, {n})\")\n",
    "    # print(\"Path:\", path)\n",
    "\n",
    "    # return path if lrc reached\n",
    "    if m == len(arr) - 1 and n == len(arr[0]) - 1:\n",
    "        print(\"* Made it! *\")\n",
    "        return path\n",
    "\n",
    "    # set move variables to default\n",
    "    down = right = \"No path\"\n",
    "\n",
    "    # move down if unobstructed and valid\n",
    "    # note that second conditional will not be checked if first is False\n",
    "    # which is good, as it would result in IndexError\n",
    "    if m+1 < len(arr) and arr[m+1][n] == 0:\n",
    "        down = find_path(arr, m+1, n, path + \"D\")\n",
    "\n",
    "    # return path if it exists\n",
    "    if down != \"No path\":\n",
    "        return down\n",
    "\n",
    "    # otherwise move right if unobstructed and valid\n",
    "    if n+1 < len(arr[0]) and arr[m][n+1] == 0:\n",
    "        right = find_path(arr, m, n+1, path + \"R\")\n",
    "\n",
    "    # return path regardless\n",
    "    return right"
   ]
  },
  {
   "cell_type": "code",
   "execution_count": 217,
   "metadata": {},
   "outputs": [],
   "source": [
    "# test_arr = [\n",
    "#     [0,0,1,0,0,0,0],\n",
    "#     [1,0,0,0,0,0,1],\n",
    "#     [0,1,0,1,1,0,0],\n",
    "#     [0,1,0,0,0,1,0]    \n",
    "# ]\n",
    "\n",
    "test_arr = [\n",
    "    [0,0,0,1],\n",
    "    [0,1,0,0],\n",
    "    [1,0,1,0]   \n",
    "]\n",
    "\n",
    "# test_arr = [\n",
    "#     [0,1],\n",
    "#     [0,0]\n",
    "# ]"
   ]
  },
  {
   "cell_type": "code",
   "execution_count": 218,
   "metadata": {},
   "outputs": [
    {
     "name": "stdout",
     "output_type": "stream",
     "text": [
      "\n",
      "(0, 0)\n",
      "Path: \n",
      "\n",
      "(1, 0)\n",
      "Path: D\n",
      "\n",
      "(0, 1)\n",
      "Path: R\n",
      "\n",
      "(0, 2)\n",
      "Path: RR\n",
      "\n",
      "(1, 2)\n",
      "Path: RRD\n",
      "\n",
      "(1, 3)\n",
      "Path: RRDR\n",
      "\n",
      "(2, 3)\n",
      "Path: RRDRD\n",
      "* Made it! *\n"
     ]
    },
    {
     "data": {
      "text/plain": [
       "'RRDRD'"
      ]
     },
     "execution_count": 218,
     "metadata": {},
     "output_type": "execute_result"
    }
   ],
   "source": [
    "find_path(test_arr)"
   ]
  },
  {
   "cell_type": "code",
   "execution_count": 236,
   "metadata": {},
   "outputs": [],
   "source": [
    "def gen_array(m, n, p_1):\n",
    "    \"\"\"Generate 2d array of given dimensions filled with 0s and 1s,\n",
    "    with p_1 being the probability of a 1\"\"\"\n",
    "    \n",
    "    assert p_1 <= 1, \"Probability of 1 must be less than or equal to 1\"\n",
    "    \n",
    "    out = []\n",
    "    for _ in range(m):\n",
    "        out.append(random.choices(range(2), weights=[1-p_1,p_1], k=n))\n",
    "    out[0][0] = 0\n",
    "    \n",
    "    return out"
   ]
  },
  {
   "cell_type": "code",
   "execution_count": 239,
   "metadata": {},
   "outputs": [],
   "source": [
    "def test_pipeline(m, n, p_1):\n",
    "    \"\"\"Generates 2d array and tests for unobstructed path\"\"\"\n",
    "    \n",
    "    arr = gen_array(m, n, p_1)\n",
    "    \n",
    "    for line in arr:\n",
    "        print(line)\n",
    "        \n",
    "    return find_path(arr)"
   ]
  },
  {
   "cell_type": "code",
   "execution_count": 242,
   "metadata": {},
   "outputs": [
    {
     "name": "stdout",
     "output_type": "stream",
     "text": [
      "[0, 0, 0, 0, 1, 0, 1, 0, 0, 0, 0, 0, 0, 1, 0, 1, 0, 0, 0, 0]\n",
      "[0, 1, 0, 0, 0, 1, 0, 0, 0, 0, 1, 0, 0, 0, 0, 0, 0, 0, 0, 0]\n",
      "[0, 0, 0, 0, 0, 0, 0, 0, 1, 1, 0, 0, 0, 0, 0, 0, 1, 1, 0, 0]\n",
      "[0, 0, 0, 0, 0, 0, 0, 1, 0, 0, 0, 0, 0, 0, 0, 0, 0, 0, 0, 1]\n",
      "[1, 0, 0, 1, 1, 0, 0, 0, 0, 0, 0, 1, 1, 0, 0, 0, 1, 0, 0, 0]\n",
      "[0, 0, 0, 0, 0, 0, 0, 0, 0, 0, 1, 0, 0, 0, 0, 0, 0, 0, 0, 0]\n",
      "[0, 0, 0, 0, 0, 0, 0, 0, 0, 0, 0, 0, 0, 0, 0, 0, 0, 0, 0, 0]\n",
      "[0, 0, 1, 0, 0, 0, 1, 1, 0, 1, 0, 0, 0, 1, 0, 1, 0, 1, 0, 0]\n",
      "[0, 1, 0, 1, 0, 0, 0, 0, 0, 0, 0, 0, 0, 0, 0, 0, 0, 0, 0, 0]\n",
      "[0, 0, 0, 0, 1, 0, 0, 0, 0, 0, 0, 0, 0, 1, 0, 0, 0, 0, 1, 0]\n",
      "[0, 1, 0, 0, 0, 1, 0, 0, 0, 0, 0, 0, 1, 1, 1, 1, 0, 0, 0, 0]\n",
      "[0, 0, 0, 0, 0, 0, 0, 1, 1, 1, 0, 0, 0, 0, 0, 0, 0, 0, 0, 0]\n",
      "[1, 1, 0, 0, 0, 0, 1, 0, 1, 1, 1, 0, 0, 0, 0, 0, 0, 0, 0, 0]\n",
      "[0, 1, 0, 0, 0, 0, 0, 1, 1, 0, 0, 0, 1, 0, 0, 1, 0, 0, 0, 0]\n",
      "[0, 0, 0, 0, 0, 0, 0, 1, 0, 0, 1, 0, 1, 0, 0, 0, 0, 0, 0, 0]\n",
      "* Made it! *\n"
     ]
    },
    {
     "data": {
      "text/plain": [
       "'DDDRDDDRRDRDRDRDRRRRDRDRRDDRRRRRR'"
      ]
     },
     "execution_count": 242,
     "metadata": {},
     "output_type": "execute_result"
    }
   ],
   "source": [
    "test_pipeline(15, 20, 0.2)"
   ]
  },
  {
   "cell_type": "code",
   "execution_count": null,
   "metadata": {},
   "outputs": [],
   "source": []
  }
 ],
 "metadata": {
  "kernelspec": {
   "display_name": "Python [conda env:Py36]",
   "language": "python",
   "name": "conda-env-Py36-py"
  },
  "language_info": {
   "codemirror_mode": {
    "name": "ipython",
    "version": 3
   },
   "file_extension": ".py",
   "mimetype": "text/x-python",
   "name": "python",
   "nbconvert_exporter": "python",
   "pygments_lexer": "ipython3",
   "version": "3.6.2"
  }
 },
 "nbformat": 4,
 "nbformat_minor": 2
}
