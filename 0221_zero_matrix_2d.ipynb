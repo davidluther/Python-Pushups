{
 "cells": [
  {
   "cell_type": "markdown",
   "metadata": {},
   "source": [
    "# Zero Matrix – 2D"
   ]
  },
  {
   "cell_type": "markdown",
   "metadata": {},
   "source": [
    "If a MxN matrix contains any zero values, set the values of the corresponding row and column to zero as well. First versions work with Python built-ins alone, then I try one with Numpy.\n",
    "\n",
    "**Bonus:** make it adapt to N-dimensional matrix (in following notebook)."
   ]
  },
  {
   "cell_type": "code",
   "execution_count": 2,
   "metadata": {},
   "outputs": [],
   "source": [
    "import numpy as np\n",
    "import random\n",
    "import timeit\n",
    "from functools import partial\n",
    "import matplotlib.pyplot as plt\n",
    "from copy import deepcopy\n",
    "%matplotlib inline"
   ]
  },
  {
   "cell_type": "markdown",
   "metadata": {},
   "source": [
    "### Make It Work"
   ]
  },
  {
   "cell_type": "code",
   "execution_count": 16,
   "metadata": {},
   "outputs": [],
   "source": [
    "def zero_matrix(arr_in, validate=True):\n",
    "    \"\"\"First version for 2D matrix\"\"\"\n",
    "    \n",
    "    # edges, checks\n",
    "    assert len(arr_in) > 0, \"Zero length matrix\"\n",
    "    # validate evenness of n-dimension\n",
    "    if validate:\n",
    "        n_dim = len(arr_in[0])\n",
    "        for row in arr_in[1:]:\n",
    "            assert len(row) == n_dim, \"One or more rows are of uneven lengths\"\n",
    "    \n",
    "    # compile list of zero-coordinates\n",
    "    zeroes = []\n",
    "    for m_ix, row in enumerate(arr_in):\n",
    "        for n_ix, val in enumerate(row):\n",
    "            if val == 0:\n",
    "                zeroes.append((m_ix, n_ix))\n",
    "    \n",
    "    # zero out corresponding row/col for each zero value\n",
    "    if len(zeroes) == 0:\n",
    "        return arr_in\n",
    "    else:\n",
    "        for m_ix, n_ix in zeroes:\n",
    "            # set column to zeroes\n",
    "            for m_ix_dyn, _ in enumerate(arr_in):\n",
    "                arr_in[m_ix_dyn][n_ix] = 0\n",
    "            # set row to zeroes\n",
    "            arr_in[m_ix] = [0 for _ in range(len(arr_in[0]))]\n",
    "    \n",
    "    return arr_in"
   ]
  },
  {
   "cell_type": "code",
   "execution_count": 90,
   "metadata": {},
   "outputs": [],
   "source": [
    "def gen_test_arr(p_zero, m, n=None):\n",
    "    \"\"\"Generates MxN array filled with randomly assigned 0s and 1s\"\"\"\n",
    "\n",
    "    if not n:\n",
    "        n = m\n",
    "    \n",
    "    test_arr = [\n",
    "        random.choices(range(2), weights=[p_zero, 1-p_zero], k=n)\n",
    "        for _ in range(m)\n",
    "    ]\n",
    "        \n",
    "    return test_arr"
   ]
  },
  {
   "cell_type": "code",
   "execution_count": 93,
   "metadata": {},
   "outputs": [
    {
     "data": {
      "text/plain": [
       "[[1, 0, 1, 1, 1, 1, 1, 1],\n",
       " [1, 1, 1, 1, 1, 1, 1, 1],\n",
       " [1, 1, 1, 1, 1, 1, 1, 1],\n",
       " [1, 1, 1, 1, 1, 1, 0, 1],\n",
       " [1, 1, 1, 1, 1, 1, 1, 1]]"
      ]
     },
     "execution_count": 93,
     "metadata": {},
     "output_type": "execute_result"
    }
   ],
   "source": [
    "test_arr = gen_test_arr(0.05, 5, 8)\n",
    "test_arr"
   ]
  },
  {
   "cell_type": "code",
   "execution_count": 94,
   "metadata": {},
   "outputs": [
    {
     "data": {
      "text/plain": [
       "[[0, 0, 0, 0, 0, 0, 0, 0],\n",
       " [1, 0, 1, 1, 1, 1, 0, 1],\n",
       " [1, 0, 1, 1, 1, 1, 0, 1],\n",
       " [0, 0, 0, 0, 0, 0, 0, 0],\n",
       " [1, 0, 1, 1, 1, 1, 0, 1]]"
      ]
     },
     "execution_count": 94,
     "metadata": {},
     "output_type": "execute_result"
    }
   ],
   "source": [
    "zero_matrix(test_arr)"
   ]
  },
  {
   "cell_type": "code",
   "execution_count": 95,
   "metadata": {},
   "outputs": [],
   "source": [
    "del test_arr[3][5]"
   ]
  },
  {
   "cell_type": "code",
   "execution_count": 96,
   "metadata": {},
   "outputs": [
    {
     "ename": "AssertionError",
     "evalue": "One or more rows are of uneven lengths",
     "output_type": "error",
     "traceback": [
      "\u001b[0;31m---------------------------------------------------------------------------\u001b[0m",
      "\u001b[0;31mAssertionError\u001b[0m                            Traceback (most recent call last)",
      "\u001b[0;32m<ipython-input-96-b7731dc01277>\u001b[0m in \u001b[0;36m<module>\u001b[0;34m()\u001b[0m\n\u001b[0;32m----> 1\u001b[0;31m \u001b[0mzero_matrix\u001b[0m\u001b[0;34m(\u001b[0m\u001b[0mtest_arr\u001b[0m\u001b[0;34m)\u001b[0m\u001b[0;34m\u001b[0m\u001b[0m\n\u001b[0m",
      "\u001b[0;32m<ipython-input-16-a85ed7e6d766>\u001b[0m in \u001b[0;36mzero_matrix\u001b[0;34m(arr_in, validate)\u001b[0m\n\u001b[1;32m      8\u001b[0m         \u001b[0mn_dim\u001b[0m \u001b[0;34m=\u001b[0m \u001b[0mlen\u001b[0m\u001b[0;34m(\u001b[0m\u001b[0marr_in\u001b[0m\u001b[0;34m[\u001b[0m\u001b[0;36m0\u001b[0m\u001b[0;34m]\u001b[0m\u001b[0;34m)\u001b[0m\u001b[0;34m\u001b[0m\u001b[0m\n\u001b[1;32m      9\u001b[0m         \u001b[0;32mfor\u001b[0m \u001b[0mrow\u001b[0m \u001b[0;32min\u001b[0m \u001b[0marr_in\u001b[0m\u001b[0;34m[\u001b[0m\u001b[0;36m1\u001b[0m\u001b[0;34m:\u001b[0m\u001b[0;34m]\u001b[0m\u001b[0;34m:\u001b[0m\u001b[0;34m\u001b[0m\u001b[0m\n\u001b[0;32m---> 10\u001b[0;31m             \u001b[0;32massert\u001b[0m \u001b[0mlen\u001b[0m\u001b[0;34m(\u001b[0m\u001b[0mrow\u001b[0m\u001b[0;34m)\u001b[0m \u001b[0;34m==\u001b[0m \u001b[0mn_dim\u001b[0m\u001b[0;34m,\u001b[0m \u001b[0;34m\"One or more rows are of uneven lengths\"\u001b[0m\u001b[0;34m\u001b[0m\u001b[0m\n\u001b[0m\u001b[1;32m     11\u001b[0m \u001b[0;34m\u001b[0m\u001b[0m\n\u001b[1;32m     12\u001b[0m     \u001b[0;31m# compile list of zero-coordinates\u001b[0m\u001b[0;34m\u001b[0m\u001b[0;34m\u001b[0m\u001b[0m\n",
      "\u001b[0;31mAssertionError\u001b[0m: One or more rows are of uneven lengths"
     ]
    }
   ],
   "source": [
    "zero_matrix(test_arr)"
   ]
  },
  {
   "cell_type": "markdown",
   "metadata": {},
   "source": [
    "It works, and breaks when it should. But how much faster would it be to build a list of zero coordinates with a list comprehension instead?"
   ]
  },
  {
   "cell_type": "markdown",
   "metadata": {},
   "source": [
    "### Gathering Speed"
   ]
  },
  {
   "cell_type": "code",
   "execution_count": 5,
   "metadata": {},
   "outputs": [],
   "source": [
    "def coords_by_loops(arr_in):\n",
    "    zeroes = []\n",
    "    for m_ix, row in enumerate(arr_in):\n",
    "        for n_ix, val in enumerate(row):\n",
    "            if val == 0:\n",
    "                zeroes.append((m_ix, n_ix))\n",
    "    return zeroes\n",
    "                \n",
    "def coords_by_list_comp(arr_in):\n",
    "    return [(m,n) for m, row in enumerate(arr_in) \n",
    "            for n, v in enumerate(row) \n",
    "            if v == 0\n",
    "           ]"
   ]
  },
  {
   "cell_type": "code",
   "execution_count": 189,
   "metadata": {},
   "outputs": [],
   "source": [
    "test_arr = gen_test_arr(0.05, 10)"
   ]
  },
  {
   "cell_type": "code",
   "execution_count": 190,
   "metadata": {},
   "outputs": [
    {
     "name": "stdout",
     "output_type": "stream",
     "text": [
      "11.6 µs ± 610 ns per loop (mean ± std. dev. of 7 runs, 10000 loops each)\n"
     ]
    }
   ],
   "source": [
    "%%timeit\n",
    "coords_by_loops(test_arr)"
   ]
  },
  {
   "cell_type": "code",
   "execution_count": 191,
   "metadata": {},
   "outputs": [
    {
     "name": "stdout",
     "output_type": "stream",
     "text": [
      "11.1 µs ± 286 ns per loop (mean ± std. dev. of 7 runs, 100000 loops each)\n"
     ]
    }
   ],
   "source": [
    "%%timeit\n",
    "coords_by_list_comp(test_arr)"
   ]
  },
  {
   "cell_type": "code",
   "execution_count": 192,
   "metadata": {},
   "outputs": [],
   "source": [
    "test_arr = gen_test_arr(0.05, 100)"
   ]
  },
  {
   "cell_type": "code",
   "execution_count": 193,
   "metadata": {},
   "outputs": [
    {
     "name": "stdout",
     "output_type": "stream",
     "text": [
      "738 µs ± 42.6 µs per loop (mean ± std. dev. of 7 runs, 1000 loops each)\n"
     ]
    }
   ],
   "source": [
    "%%timeit\n",
    "coords_by_loops(test_arr)"
   ]
  },
  {
   "cell_type": "code",
   "execution_count": 194,
   "metadata": {},
   "outputs": [
    {
     "name": "stdout",
     "output_type": "stream",
     "text": [
      "832 µs ± 119 µs per loop (mean ± std. dev. of 7 runs, 1000 loops each)\n"
     ]
    }
   ],
   "source": [
    "%%timeit\n",
    "coords_by_list_comp(test_arr)"
   ]
  },
  {
   "cell_type": "code",
   "execution_count": 195,
   "metadata": {},
   "outputs": [],
   "source": [
    "test_arr = gen_test_arr(0.05, 500)"
   ]
  },
  {
   "cell_type": "code",
   "execution_count": 196,
   "metadata": {},
   "outputs": [
    {
     "name": "stdout",
     "output_type": "stream",
     "text": [
      "21.9 ms ± 1.2 ms per loop (mean ± std. dev. of 7 runs, 10 loops each)\n"
     ]
    }
   ],
   "source": [
    "%%timeit\n",
    "coords_by_loops(test_arr)"
   ]
  },
  {
   "cell_type": "code",
   "execution_count": 197,
   "metadata": {},
   "outputs": [
    {
     "name": "stdout",
     "output_type": "stream",
     "text": [
      "21.7 ms ± 1.4 ms per loop (mean ± std. dev. of 7 runs, 10 loops each)\n"
     ]
    }
   ],
   "source": [
    "%%timeit\n",
    "coords_by_list_comp(test_arr)"
   ]
  },
  {
   "cell_type": "code",
   "execution_count": 198,
   "metadata": {},
   "outputs": [],
   "source": [
    "test_arr = gen_test_arr(0.05, 1000)"
   ]
  },
  {
   "cell_type": "code",
   "execution_count": 199,
   "metadata": {},
   "outputs": [
    {
     "name": "stdout",
     "output_type": "stream",
     "text": [
      "111 ms ± 21.8 ms per loop (mean ± std. dev. of 7 runs, 10 loops each)\n"
     ]
    }
   ],
   "source": [
    "%%timeit\n",
    "coords_by_loops(test_arr)"
   ]
  },
  {
   "cell_type": "code",
   "execution_count": 200,
   "metadata": {},
   "outputs": [
    {
     "name": "stdout",
     "output_type": "stream",
     "text": [
      "87.9 ms ± 5.33 ms per loop (mean ± std. dev. of 7 runs, 10 loops each)\n"
     ]
    }
   ],
   "source": [
    "%%timeit\n",
    "coords_by_list_comp(test_arr)"
   ]
  },
  {
   "cell_type": "markdown",
   "metadata": {},
   "source": [
    "It appears to be so in 3 out of four cases, perhaps more so as it scales. Still, as any extra speed would generally be welcomed, it probably wouldn't be a bad idea to swap in the list-comp build.\n",
    "\n",
    "I could also speed up the process by constructing a row of zeros once instead of generating one for each coordinate."
   ]
  },
  {
   "cell_type": "code",
   "execution_count": 17,
   "metadata": {},
   "outputs": [],
   "source": [
    "def zero_matrix_v2(arr_in, validate=True):\n",
    "    \"\"\"Second version for 2D matrix\"\"\"\n",
    "    \n",
    "    # edges, checks\n",
    "    assert len(arr_in) > 0, \"Zero length matrix\"\n",
    "    # validate evenness of n-dimension\n",
    "    if validate:\n",
    "        n_dim = len(arr_in[0])\n",
    "        for row in arr_in[1:]:\n",
    "            assert len(row) == n_dim, \"One or more rows are of uneven lengths\"\n",
    "    \n",
    "    # compile list of zero-coordinates\n",
    "    zeroes = coords_by_list_comp(arr_in)\n",
    "    \n",
    "    # zero out corresponding row/col for each zero value\n",
    "    if len(zeroes) == 0:\n",
    "        return arr_in\n",
    "    else:\n",
    "        zero_row = [0 for _ in range(len(arr_in[0]))]\n",
    "        for m_ix, n_ix in zeroes:\n",
    "            # set column to zeroes\n",
    "            for m_ix_dyn, _ in enumerate(arr_in):\n",
    "                arr_in[m_ix_dyn][n_ix] = 0\n",
    "            # set row to zeroes\n",
    "            arr_in[m_ix] = zero_row\n",
    "    \n",
    "    return arr_in"
   ]
  },
  {
   "cell_type": "markdown",
   "metadata": {},
   "source": [
    "Do they both work?"
   ]
  },
  {
   "cell_type": "code",
   "execution_count": 223,
   "metadata": {},
   "outputs": [
    {
     "data": {
      "text/plain": [
       "True"
      ]
     },
     "execution_count": 223,
     "metadata": {},
     "output_type": "execute_result"
    }
   ],
   "source": [
    "test_arr = gen_test_arr(0.05, 6, 8)\n",
    "zero_matrix(deepcopy(test_arr)) == zero_matrix_v2(deepcopy(test_arr))"
   ]
  },
  {
   "cell_type": "markdown",
   "metadata": {},
   "source": [
    "Let's see how the modifications helped or not. At this point, we'll want to adjust the density of zeros dynamically, as it will quickly turn into an exercise of setting all values to zero, as there will be at least one zero per row and thus per column. Arbitrarily, we'll shoot for one zero every two rows, which will ensure that not all columns/rows include zeros, and also allow for a decent probability of having multiple zeros in some rows/columns"
   ]
  },
  {
   "cell_type": "code",
   "execution_count": 211,
   "metadata": {},
   "outputs": [
    {
     "name": "stdout",
     "output_type": "stream",
     "text": [
      "P(0) = 0.05\n"
     ]
    }
   ],
   "source": [
    "m = 10\n",
    "p = 1/(2*m)\n",
    "test_arr = gen_test_arr(p, m)\n",
    "print(f\"P(0) = {p}\")"
   ]
  },
  {
   "cell_type": "code",
   "execution_count": 212,
   "metadata": {},
   "outputs": [
    {
     "name": "stdout",
     "output_type": "stream",
     "text": [
      "237 µs ± 65.6 µs per loop (mean ± std. dev. of 7 runs, 1000 loops each)\n"
     ]
    }
   ],
   "source": [
    "%%timeit\n",
    "zero_matrix(deepcopy(test_arr))"
   ]
  },
  {
   "cell_type": "code",
   "execution_count": 213,
   "metadata": {},
   "outputs": [
    {
     "name": "stdout",
     "output_type": "stream",
     "text": [
      "177 µs ± 49.2 µs per loop (mean ± std. dev. of 7 runs, 10000 loops each)\n"
     ]
    }
   ],
   "source": [
    "%%timeit\n",
    "zero_matrix_v2(deepcopy(test_arr))"
   ]
  },
  {
   "cell_type": "code",
   "execution_count": 214,
   "metadata": {},
   "outputs": [
    {
     "name": "stdout",
     "output_type": "stream",
     "text": [
      "P(0) = 0.005\n"
     ]
    }
   ],
   "source": [
    "m = 100\n",
    "p = 1/(2*m)\n",
    "test_arr = gen_test_arr(p, m)\n",
    "print(f\"P(0) = {p}\")"
   ]
  },
  {
   "cell_type": "code",
   "execution_count": 215,
   "metadata": {},
   "outputs": [
    {
     "name": "stdout",
     "output_type": "stream",
     "text": [
      "11.4 ms ± 453 µs per loop (mean ± std. dev. of 7 runs, 100 loops each)\n"
     ]
    }
   ],
   "source": [
    "%%timeit\n",
    "zero_matrix(deepcopy(test_arr))"
   ]
  },
  {
   "cell_type": "code",
   "execution_count": 216,
   "metadata": {},
   "outputs": [
    {
     "name": "stdout",
     "output_type": "stream",
     "text": [
      "10.9 ms ± 296 µs per loop (mean ± std. dev. of 7 runs, 100 loops each)\n"
     ]
    }
   ],
   "source": [
    "%%timeit\n",
    "zero_matrix_v2(deepcopy(test_arr))"
   ]
  },
  {
   "cell_type": "code",
   "execution_count": 225,
   "metadata": {},
   "outputs": [
    {
     "name": "stdout",
     "output_type": "stream",
     "text": [
      "P(0) = 0.001\n"
     ]
    }
   ],
   "source": [
    "m = 500\n",
    "p = 1/(2*m)\n",
    "test_arr = gen_test_arr(p, m)\n",
    "print(f\"P(0) = {p}\")"
   ]
  },
  {
   "cell_type": "code",
   "execution_count": 226,
   "metadata": {},
   "outputs": [
    {
     "name": "stdout",
     "output_type": "stream",
     "text": [
      "473 ms ± 214 ms per loop (mean ± std. dev. of 7 runs, 1 loop each)\n"
     ]
    }
   ],
   "source": [
    "%%timeit\n",
    "zero_matrix(deepcopy(test_arr))"
   ]
  },
  {
   "cell_type": "code",
   "execution_count": 227,
   "metadata": {},
   "outputs": [
    {
     "name": "stdout",
     "output_type": "stream",
     "text": [
      "277 ms ± 16.7 ms per loop (mean ± std. dev. of 7 runs, 1 loop each)\n"
     ]
    }
   ],
   "source": [
    "%%timeit\n",
    "zero_matrix_v2(deepcopy(test_arr))"
   ]
  },
  {
   "cell_type": "code",
   "execution_count": 220,
   "metadata": {},
   "outputs": [
    {
     "name": "stdout",
     "output_type": "stream",
     "text": [
      "P(0) = 0.0005\n"
     ]
    }
   ],
   "source": [
    "m = 1000\n",
    "p = 1/(2*m)\n",
    "test_arr = gen_test_arr(p, m)\n",
    "print(f\"P(0) = {p}\")"
   ]
  },
  {
   "cell_type": "code",
   "execution_count": 221,
   "metadata": {},
   "outputs": [
    {
     "name": "stdout",
     "output_type": "stream",
     "text": [
      "1.44 s ± 152 ms per loop (mean ± std. dev. of 7 runs, 1 loop each)\n"
     ]
    }
   ],
   "source": [
    "%%timeit\n",
    "zero_matrix(deepcopy(test_arr))"
   ]
  },
  {
   "cell_type": "code",
   "execution_count": 222,
   "metadata": {},
   "outputs": [
    {
     "name": "stdout",
     "output_type": "stream",
     "text": [
      "1.51 s ± 389 ms per loop (mean ± std. dev. of 7 runs, 1 loop each)\n"
     ]
    }
   ],
   "source": [
    "%%timeit\n",
    "zero_matrix_v2(deepcopy(test_arr))"
   ]
  },
  {
   "cell_type": "markdown",
   "metadata": {},
   "source": [
    "Version 2 is significantly faster at certain times, but it's difficult to see how any speed advantage is related to size. I suspect that there are patterns in the random generation that are responsible.\n",
    "\n",
    "The dimension validation step is an O(m) operation, but this contributes the same time for each version."
   ]
  },
  {
   "cell_type": "markdown",
   "metadata": {},
   "source": [
    "### Even More Speed?"
   ]
  },
  {
   "cell_type": "markdown",
   "metadata": {},
   "source": [
    "If there are multiple zeros in any row or column, it only needs to be zeroed out once. The previous functions can be modified to do this in a couple ways:\n",
    "\n",
    "1. Building list of zero coordinates — if there was already a zero found in a row, one needn't scan further. And if there was already a zero found in a column, that needn't be added either.\n",
    "2. Leave the list-build as-is, but only zero out unaltered columns/rows\n",
    "\n",
    "However, I'll take an alternate approach, and instead of keeping track of zero coordinates, simply building sets of columns and rows containing zeros.\n",
    "\n",
    "Unfortunately, it's impossible to avoid scanning the entire matrix for zeros. If a zero is found in the second position of a row, one needn't scan the rest of the row for the sake of the rows, but it may contain a zero in a column that no other row contains. The only exception to this condition would be if all rows/columns are found to contain zeros; one could break the search loop at this point and simply return a MxN array filled with zeros. This gives it a worst-case complexity of O(m*n)."
   ]
  },
  {
   "cell_type": "code",
   "execution_count": 18,
   "metadata": {},
   "outputs": [],
   "source": [
    "def zero_matrix_v3(arr_in, validate=True):\n",
    "    \"\"\"Third version for 2D matrix\"\"\"\n",
    "    \n",
    "    # edges, checks\n",
    "    assert len(arr_in) > 0, \"Zero length matrix\"\n",
    "    # validate evenness of n-dimension\n",
    "    if validate:\n",
    "        n_dim = len(arr_in[0])\n",
    "        for row in arr_in[1:]:\n",
    "            assert len(row) == n_dim, \"One or more rows are of uneven lengths\"\n",
    "    \n",
    "    # compile sets of rows and columns containing zeroes\n",
    "    z_rows = set()\n",
    "    z_cols = set()\n",
    "    for m_ix, row in enumerate(arr_in):\n",
    "        for n_ix, val in enumerate(row):\n",
    "            if val == 0:\n",
    "                z_rows.add(m_ix)\n",
    "                z_cols.add(n_ix)\n",
    "    \n",
    "    # zero out corresponding row/col for each zero value\n",
    "    if len(z_rows) == 0:\n",
    "        return arr_in\n",
    "    else:\n",
    "        zero_row = [0 for _ in range(len(arr_in[0]))]\n",
    "        for m_ix in z_rows:\n",
    "            arr_in[m_ix] = zero_row\n",
    "        for n_ix in z_cols:\n",
    "            for m_ix, _ in enumerate(arr_in):\n",
    "                arr_in[m_ix][n_ix] = 0\n",
    "\n",
    "    return arr_in"
   ]
  },
  {
   "cell_type": "code",
   "execution_count": 302,
   "metadata": {},
   "outputs": [
    {
     "data": {
      "text/plain": [
       "True"
      ]
     },
     "execution_count": 302,
     "metadata": {},
     "output_type": "execute_result"
    }
   ],
   "source": [
    "# test against second version\n",
    "test_arr = gen_test_arr(0.05, 12, 8)\n",
    "zero_matrix_v2(deepcopy(test_arr)) == zero_matrix_v3(deepcopy(test_arr))"
   ]
  },
  {
   "cell_type": "markdown",
   "metadata": {},
   "source": [
    "Onto some timing..."
   ]
  },
  {
   "cell_type": "code",
   "execution_count": 242,
   "metadata": {},
   "outputs": [
    {
     "name": "stdout",
     "output_type": "stream",
     "text": [
      "P(0) = 0.05\n"
     ]
    }
   ],
   "source": [
    "m = 10\n",
    "p = 1/(2*m)\n",
    "test_arr = gen_test_arr(p, m)\n",
    "print(f\"P(0) = {p}\")"
   ]
  },
  {
   "cell_type": "code",
   "execution_count": 243,
   "metadata": {},
   "outputs": [
    {
     "name": "stdout",
     "output_type": "stream",
     "text": [
      "149 µs ± 9.54 µs per loop (mean ± std. dev. of 7 runs, 10000 loops each)\n"
     ]
    }
   ],
   "source": [
    "%%timeit\n",
    "zero_matrix_v2(deepcopy(test_arr))"
   ]
  },
  {
   "cell_type": "code",
   "execution_count": 244,
   "metadata": {},
   "outputs": [
    {
     "name": "stdout",
     "output_type": "stream",
     "text": [
      "188 µs ± 38.5 µs per loop (mean ± std. dev. of 7 runs, 10000 loops each)\n"
     ]
    }
   ],
   "source": [
    "%%timeit\n",
    "zero_matrix_v3(deepcopy(test_arr))"
   ]
  },
  {
   "cell_type": "code",
   "execution_count": 245,
   "metadata": {},
   "outputs": [
    {
     "name": "stdout",
     "output_type": "stream",
     "text": [
      "P(0) = 0.005\n"
     ]
    }
   ],
   "source": [
    "m = 100\n",
    "p = 1/(2*m)\n",
    "test_arr = gen_test_arr(p, m)\n",
    "print(f\"P(0) = {p}\")"
   ]
  },
  {
   "cell_type": "code",
   "execution_count": 246,
   "metadata": {},
   "outputs": [
    {
     "name": "stdout",
     "output_type": "stream",
     "text": [
      "10.5 ms ± 385 µs per loop (mean ± std. dev. of 7 runs, 100 loops each)\n"
     ]
    }
   ],
   "source": [
    "%%timeit\n",
    "zero_matrix_v2(deepcopy(test_arr))"
   ]
  },
  {
   "cell_type": "code",
   "execution_count": 247,
   "metadata": {},
   "outputs": [
    {
     "name": "stdout",
     "output_type": "stream",
     "text": [
      "11.1 ms ± 496 µs per loop (mean ± std. dev. of 7 runs, 100 loops each)\n"
     ]
    }
   ],
   "source": [
    "%%timeit\n",
    "zero_matrix_v3(deepcopy(test_arr))"
   ]
  },
  {
   "cell_type": "code",
   "execution_count": 248,
   "metadata": {},
   "outputs": [
    {
     "name": "stdout",
     "output_type": "stream",
     "text": [
      "P(0) = 0.001\n"
     ]
    }
   ],
   "source": [
    "m = 500\n",
    "p = 1/(2*m)\n",
    "test_arr = gen_test_arr(p, m)\n",
    "print(f\"P(0) = {p}\")"
   ]
  },
  {
   "cell_type": "code",
   "execution_count": 249,
   "metadata": {},
   "outputs": [
    {
     "name": "stdout",
     "output_type": "stream",
     "text": [
      "391 ms ± 65.8 ms per loop (mean ± std. dev. of 7 runs, 1 loop each)\n"
     ]
    }
   ],
   "source": [
    "%%timeit\n",
    "zero_matrix_v2(deepcopy(test_arr))"
   ]
  },
  {
   "cell_type": "code",
   "execution_count": 250,
   "metadata": {},
   "outputs": [
    {
     "name": "stdout",
     "output_type": "stream",
     "text": [
      "312 ms ± 47.8 ms per loop (mean ± std. dev. of 7 runs, 1 loop each)\n"
     ]
    }
   ],
   "source": [
    "%%timeit\n",
    "zero_matrix_v3(deepcopy(test_arr))"
   ]
  },
  {
   "cell_type": "code",
   "execution_count": 251,
   "metadata": {},
   "outputs": [
    {
     "name": "stdout",
     "output_type": "stream",
     "text": [
      "P(0) = 0.0005\n"
     ]
    }
   ],
   "source": [
    "m = 1000\n",
    "p = 1/(2*m)\n",
    "test_arr = gen_test_arr(p, m)\n",
    "print(f\"P(0) = {p}\")"
   ]
  },
  {
   "cell_type": "code",
   "execution_count": 252,
   "metadata": {},
   "outputs": [
    {
     "name": "stdout",
     "output_type": "stream",
     "text": [
      "1.38 s ± 200 ms per loop (mean ± std. dev. of 7 runs, 1 loop each)\n"
     ]
    }
   ],
   "source": [
    "%%timeit\n",
    "zero_matrix_v2(deepcopy(test_arr))"
   ]
  },
  {
   "cell_type": "code",
   "execution_count": 253,
   "metadata": {},
   "outputs": [
    {
     "name": "stdout",
     "output_type": "stream",
     "text": [
      "1.18 s ± 149 ms per loop (mean ± std. dev. of 7 runs, 1 loop each)\n"
     ]
    }
   ],
   "source": [
    "%%timeit\n",
    "zero_matrix_v3(deepcopy(test_arr))"
   ]
  },
  {
   "cell_type": "markdown",
   "metadata": {},
   "source": [
    "V3 is slower for smaller values, perhaps due to the speed of a list comprehension in v2 and the added step of adding values to sets for v3, but faster as it scales. I assume this would be due to the greater occurrence of multiple zeroes per column/row as it scales."
   ]
  },
  {
   "cell_type": "markdown",
   "metadata": {},
   "source": [
    "#### A quick check on probability of multiple zeroes per row..."
   ]
  },
  {
   "cell_type": "code",
   "execution_count": 303,
   "metadata": {},
   "outputs": [],
   "source": [
    "def binomial(n, k, p_suc):\n",
    "    \"\"\"Returns probability of k successes in n trials given P(success)\"\"\"\n",
    "\n",
    "    fac = np.math.factorial\n",
    "    n_choose_k = fac(n) / (fac(n-k)*fac(k))\n",
    "    return n_choose_k * p_suc**k * (1-p_suc)**(n-k)\n",
    "\n",
    "\n",
    "def p_more_than_one(n, p):\n",
    "    \"\"\"Returns probability of more than one success in n trials given P(success)\"\"\"\n",
    "    \n",
    "    bin_0 = binomial(m, 0, p)\n",
    "    bin_1 = binomial(m, 1, p)\n",
    "    return 1 - bin_1 - bin_0\n",
    "    \n",
    "\n",
    "def p_more_than_one_per_row(m):\n",
    "    \"\"\"Calculates P(0 > 1x) in one row using binomial distribution.\n",
    "    Assumes an MxM array with P(0) of one zero per two rows.\"\"\"\n",
    "    \n",
    "    p = 1/(2*m)\n",
    "    print(f\"P(0) = {p}\")\n",
    "    return p_more_than_one(m, p)"
   ]
  },
  {
   "cell_type": "code",
   "execution_count": 291,
   "metadata": {},
   "outputs": [
    {
     "name": "stdout",
     "output_type": "stream",
     "text": [
      "m = 10\n",
      "P(0) = 0.05\n",
      "P(0 > 1x) per row = 0.0861\n",
      "Expected number of rows containing more than one zero: 0.86 \n",
      "\n",
      "m = 100\n",
      "P(0) = 0.005\n",
      "P(0 > 1x) per row = 0.0898\n",
      "Expected number of rows containing more than one zero: 8.98 \n",
      "\n",
      "m = 500\n",
      "P(0) = 0.001\n",
      "P(0 > 1x) per row = 0.0901\n",
      "Expected number of rows containing more than one zero: 45.06 \n",
      "\n",
      "m = 1000\n",
      "P(0) = 0.0005\n",
      "P(0 > 1x) per row = 0.0902\n",
      "Expected number of rows containing more than one zero: 90.17 \n",
      "\n"
     ]
    }
   ],
   "source": [
    "for m in [10, 100, 500, 1000]:\n",
    "    print(f\"m = {m}\")\n",
    "    p = p_more_than_one_per_row(m)\n",
    "    print(f\"P(0 > 1x) per row = {p:.4f}\")\n",
    "    print(f\"Expected number of rows containing more than one zero: {p*m:.2f}\", \"\\n\")"
   ]
  },
  {
   "cell_type": "markdown",
   "metadata": {},
   "source": [
    "Probability of having more than one zero in any given row is very even as m increases, given the dynamic probability of one zero per two rows, but as suspected, the expected number of rows containing multiple zeros increases linearly with the size of each matrix."
   ]
  },
  {
   "cell_type": "markdown",
   "metadata": {},
   "source": [
    "### What About With Numpy?"
   ]
  },
  {
   "cell_type": "markdown",
   "metadata": {},
   "source": [
    "Heretofore, our array has been a list of lists. Replacing a row with zeroes is easy enough, but replacing a column is a slightly cumbersome, iterative process — and it would only become more so as it scaled to N-dimensions. Numpy was designed to make these kinds of operations smooth and fast, so let's see exactly how much smoother/faster it becomes."
   ]
  },
  {
   "cell_type": "code",
   "execution_count": 54,
   "metadata": {},
   "outputs": [
    {
     "data": {
      "text/plain": [
       "array([[1, 1, 1, 1, 1],\n",
       "       [1, 1, 1, 1, 1],\n",
       "       [1, 1, 0, 1, 1],\n",
       "       [1, 1, 1, 1, 1]])"
      ]
     },
     "execution_count": 54,
     "metadata": {},
     "output_type": "execute_result"
    }
   ],
   "source": [
    "test = np.random.choice(2, (4,5), p=[0.05, 0.95])\n",
    "test"
   ]
  },
  {
   "cell_type": "code",
   "execution_count": 56,
   "metadata": {},
   "outputs": [
    {
     "name": "stdout",
     "output_type": "stream",
     "text": [
      "Rows: {2}\n",
      "Cols: {2}\n"
     ]
    }
   ],
   "source": [
    "z_coords = np.where(test == 0)\n",
    "z_rows, z_cols = set(z_coords[0]), set(z_coords[1])\n",
    "print(\"Rows:\", z_rows)\n",
    "print(\"Cols:\", z_cols)"
   ]
  },
  {
   "cell_type": "code",
   "execution_count": 57,
   "metadata": {},
   "outputs": [
    {
     "data": {
      "text/plain": [
       "array([[1, 1, 0, 1, 1],\n",
       "       [1, 1, 0, 1, 1],\n",
       "       [0, 0, 0, 0, 0],\n",
       "       [1, 1, 0, 1, 1]])"
      ]
     },
     "execution_count": 57,
     "metadata": {},
     "output_type": "execute_result"
    }
   ],
   "source": [
    "test[:, 2] = 0\n",
    "test[2] = 0\n",
    "test"
   ]
  },
  {
   "cell_type": "markdown",
   "metadata": {},
   "source": [
    "Much, much easier. Numpifying the final function:"
   ]
  },
  {
   "cell_type": "code",
   "execution_count": 35,
   "metadata": {},
   "outputs": [],
   "source": [
    "def zero_matrix_np(arr_in, validate=True):\n",
    "    \"\"\"Expects Numpy array as input instead of list, and implements Numpy ops\"\"\"\n",
    "    \n",
    "    # edges, checks\n",
    "    assert len(arr_in) > 0, \"Zero length matrix\"\n",
    "    # validate evenness of n-dimension if list\n",
    "    # don't need to do this if numpy array\n",
    "    if validate and isinstance(arr_in, list):\n",
    "        n_dim = len(arr_in[0])\n",
    "        for row in arr_in[1:]:\n",
    "            assert len(row) == n_dim, \"One or more rows are of uneven lengths\"\n",
    "    \n",
    "    # compile sets of rows and columns containing zeroes\n",
    "    z_coords = np.where(arr_in == 0)\n",
    "    z_rows, z_cols = set(z_coords[0]), set(z_coords[1])\n",
    "    \n",
    "    # zero out corresponding row/col for each zero value\n",
    "    if len(z_rows) == 0:\n",
    "        return arr_in\n",
    "    else:\n",
    "        for m_ix in z_rows:\n",
    "            arr_in[m_ix] = 0\n",
    "        for n_ix in z_cols:\n",
    "            arr_in[:, n_ix] = 0\n",
    "\n",
    "    return arr_in"
   ]
  },
  {
   "cell_type": "code",
   "execution_count": 38,
   "metadata": {},
   "outputs": [
    {
     "data": {
      "text/plain": [
       "array([[1, 1, 1, 1, 1, 1, 1, 1, 1, 1, 1, 1],\n",
       "       [1, 0, 1, 1, 1, 1, 1, 1, 1, 1, 1, 1],\n",
       "       [1, 1, 1, 1, 1, 1, 1, 1, 1, 1, 1, 1],\n",
       "       [1, 1, 1, 1, 1, 1, 0, 0, 1, 1, 1, 1],\n",
       "       [1, 1, 1, 1, 1, 1, 1, 1, 1, 1, 1, 1],\n",
       "       [1, 1, 1, 1, 1, 1, 1, 1, 1, 1, 1, 1],\n",
       "       [1, 1, 1, 1, 1, 1, 1, 1, 1, 1, 1, 1],\n",
       "       [1, 1, 1, 1, 0, 1, 1, 1, 1, 1, 1, 1]])"
      ]
     },
     "execution_count": 38,
     "metadata": {},
     "output_type": "execute_result"
    }
   ],
   "source": [
    "test_arr = np.random.choice(2, (8,12), p=[0.05, 0.95])\n",
    "test_arr"
   ]
  },
  {
   "cell_type": "code",
   "execution_count": 39,
   "metadata": {},
   "outputs": [
    {
     "data": {
      "text/plain": [
       "array([[1, 0, 1, 1, 0, 1, 0, 0, 1, 1, 1, 1],\n",
       "       [0, 0, 0, 0, 0, 0, 0, 0, 0, 0, 0, 0],\n",
       "       [1, 0, 1, 1, 0, 1, 0, 0, 1, 1, 1, 1],\n",
       "       [0, 0, 0, 0, 0, 0, 0, 0, 0, 0, 0, 0],\n",
       "       [1, 0, 1, 1, 0, 1, 0, 0, 1, 1, 1, 1],\n",
       "       [1, 0, 1, 1, 0, 1, 0, 0, 1, 1, 1, 1],\n",
       "       [1, 0, 1, 1, 0, 1, 0, 0, 1, 1, 1, 1],\n",
       "       [0, 0, 0, 0, 0, 0, 0, 0, 0, 0, 0, 0]])"
      ]
     },
     "execution_count": 39,
     "metadata": {},
     "output_type": "execute_result"
    }
   ],
   "source": [
    "zero_matrix_np(test_arr)"
   ]
  },
  {
   "cell_type": "markdown",
   "metadata": {},
   "source": [
    "Success. Let's check some times. I'll bypass the validation step of v3"
   ]
  },
  {
   "cell_type": "code",
   "execution_count": 64,
   "metadata": {},
   "outputs": [
    {
     "name": "stdout",
     "output_type": "stream",
     "text": [
      "P(0) = 0.05\n"
     ]
    }
   ],
   "source": [
    "m = 10\n",
    "p = 1/(2*m)\n",
    "test_arr = np.random.choice(2, (m,m), p=[p, 1-p])\n",
    "print(f\"P(0) = {p}\")"
   ]
  },
  {
   "cell_type": "code",
   "execution_count": 65,
   "metadata": {},
   "outputs": [
    {
     "name": "stdout",
     "output_type": "stream",
     "text": [
      "71.1 µs ± 1.59 µs per loop (mean ± std. dev. of 7 runs, 10000 loops each)\n"
     ]
    }
   ],
   "source": [
    "%%timeit\n",
    "zero_matrix_v3(test_arr.copy(), validate=False)"
   ]
  },
  {
   "cell_type": "code",
   "execution_count": 66,
   "metadata": {},
   "outputs": [
    {
     "name": "stdout",
     "output_type": "stream",
     "text": [
      "12.2 µs ± 196 ns per loop (mean ± std. dev. of 7 runs, 100000 loops each)\n"
     ]
    }
   ],
   "source": [
    "%%timeit\n",
    "zero_matrix_np(test_arr.copy())"
   ]
  },
  {
   "cell_type": "code",
   "execution_count": 67,
   "metadata": {},
   "outputs": [
    {
     "name": "stdout",
     "output_type": "stream",
     "text": [
      "P(0) = 0.005\n"
     ]
    }
   ],
   "source": [
    "m = 100\n",
    "p = 1/(2*m)\n",
    "test_arr = np.random.choice(2, (m,m), p=[p, 1-p])\n",
    "print(f\"P(0) = {p}\")"
   ]
  },
  {
   "cell_type": "code",
   "execution_count": 68,
   "metadata": {},
   "outputs": [
    {
     "name": "stdout",
     "output_type": "stream",
     "text": [
      "5.44 ms ± 479 µs per loop (mean ± std. dev. of 7 runs, 100 loops each)\n"
     ]
    }
   ],
   "source": [
    "%%timeit\n",
    "zero_matrix_v3(test_arr.copy(), validate=False)"
   ]
  },
  {
   "cell_type": "code",
   "execution_count": 69,
   "metadata": {},
   "outputs": [
    {
     "name": "stdout",
     "output_type": "stream",
     "text": [
      "130 µs ± 8.77 µs per loop (mean ± std. dev. of 7 runs, 10000 loops each)\n"
     ]
    }
   ],
   "source": [
    "%%timeit\n",
    "zero_matrix_np(test_arr.copy())"
   ]
  },
  {
   "cell_type": "code",
   "execution_count": 70,
   "metadata": {},
   "outputs": [
    {
     "name": "stdout",
     "output_type": "stream",
     "text": [
      "P(0) = 0.001\n"
     ]
    }
   ],
   "source": [
    "m = 500\n",
    "p = 1/(2*m)\n",
    "test_arr = np.random.choice(2, (m,m), p=[p, 1-p])\n",
    "print(f\"P(0) = {p}\")"
   ]
  },
  {
   "cell_type": "code",
   "execution_count": 71,
   "metadata": {},
   "outputs": [
    {
     "name": "stdout",
     "output_type": "stream",
     "text": [
      "127 ms ± 8.8 ms per loop (mean ± std. dev. of 7 runs, 10 loops each)\n"
     ]
    }
   ],
   "source": [
    "%%timeit\n",
    "zero_matrix_v3(test_arr.copy(), validate=False)"
   ]
  },
  {
   "cell_type": "code",
   "execution_count": 72,
   "metadata": {},
   "outputs": [
    {
     "name": "stdout",
     "output_type": "stream",
     "text": [
      "2 ms ± 254 µs per loop (mean ± std. dev. of 7 runs, 1000 loops each)\n"
     ]
    }
   ],
   "source": [
    "%%timeit\n",
    "zero_matrix_np(test_arr.copy())"
   ]
  },
  {
   "cell_type": "code",
   "execution_count": 73,
   "metadata": {},
   "outputs": [
    {
     "name": "stdout",
     "output_type": "stream",
     "text": [
      "P(0) = 0.0005\n"
     ]
    }
   ],
   "source": [
    "m = 1000\n",
    "p = 1/(2*m)\n",
    "test_arr = np.random.choice(2, (m,m), p=[p, 1-p])\n",
    "print(f\"P(0) = {p}\")"
   ]
  },
  {
   "cell_type": "code",
   "execution_count": 74,
   "metadata": {},
   "outputs": [
    {
     "name": "stdout",
     "output_type": "stream",
     "text": [
      "501 ms ± 29.9 ms per loop (mean ± std. dev. of 7 runs, 1 loop each)\n"
     ]
    }
   ],
   "source": [
    "%%timeit\n",
    "zero_matrix_v3(test_arr.copy(), validate=False)"
   ]
  },
  {
   "cell_type": "code",
   "execution_count": 75,
   "metadata": {},
   "outputs": [
    {
     "name": "stdout",
     "output_type": "stream",
     "text": [
      "11.3 ms ± 193 µs per loop (mean ± std. dev. of 7 runs, 100 loops each)\n"
     ]
    }
   ],
   "source": [
    "%%timeit\n",
    "zero_matrix_np(test_arr.copy())"
   ]
  },
  {
   "cell_type": "code",
   "execution_count": 85,
   "metadata": {},
   "outputs": [
    {
     "data": {
      "text/plain": [
       "63.5"
      ]
     },
     "execution_count": 85,
     "metadata": {},
     "output_type": "execute_result"
    }
   ],
   "source": [
    "127/2"
   ]
  },
  {
   "cell_type": "markdown",
   "metadata": {},
   "source": [
    "#### No contest. Numpy is anywhere from 12x to 63x faster, and seemingly more so as it scales. Not surprising..."
   ]
  }
 ],
 "metadata": {
  "kernelspec": {
   "display_name": "Python [conda env:Py36]",
   "language": "python",
   "name": "conda-env-Py36-py"
  },
  "language_info": {
   "codemirror_mode": {
    "name": "ipython",
    "version": 3
   },
   "file_extension": ".py",
   "mimetype": "text/x-python",
   "name": "python",
   "nbconvert_exporter": "python",
   "pygments_lexer": "ipython3",
   "version": "3.6.2"
  }
 },
 "nbformat": 4,
 "nbformat_minor": 2
}
